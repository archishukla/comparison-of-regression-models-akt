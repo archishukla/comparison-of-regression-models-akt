{
 "cells": [
  {
   "cell_type": "markdown",
   "metadata": {
    "id": "l0Y7_lgN4jzM"
   },
   "source": [
    "# **Bioinformatics Project - Computational Drug Discovery [Part 2] Exploratory Data Analysis**\n",
    "\n",
    "Building a machine learning model using the ChEMBL bioactivity data <br>\n",
    "Part 2: Descriptor Calculation and Exploratory Data Analysis.\n",
    "\n",
    "---"
   ]
  },
  {
   "cell_type": "markdown",
   "metadata": {
    "id": "o-4IOizard4P"
   },
   "source": [
    "## **Install conda and rdkit**"
   ]
  },
  {
   "cell_type": "code",
   "execution_count": null,
   "metadata": {
    "colab": {
     "base_uri": "https://localhost:8080/"
    },
    "executionInfo": {
     "elapsed": 46060,
     "status": "ok",
     "timestamp": 1625852314968,
     "user": {
      "displayName": "Archi Shukla",
      "photoUrl": "https://lh3.googleusercontent.com/a-/AOh14GgYGQd-M4aUvMbhx1us6uPO7GoNEGEAYQzmE5BsYeQ=s64",
      "userId": "00468706026079091027"
     },
     "user_tz": -330
    },
    "id": "H0mjQ2PcrSe5",
    "outputId": "95768564-5dae-479c-be22-cb145988896d"
   },
   "outputs": [
    {
     "name": "stdout",
     "output_type": "stream",
     "text": [
      "--2021-07-09 17:32:39--  https://repo.anaconda.com/miniconda/Miniconda3-py37_4.8.2-Linux-x86_64.sh\n",
      "Resolving repo.anaconda.com (repo.anaconda.com)... 104.16.130.3, 104.16.131.3, 2606:4700::6810:8303, ...\n",
      "Connecting to repo.anaconda.com (repo.anaconda.com)|104.16.130.3|:443... connected.\n",
      "HTTP request sent, awaiting response... 200 OK\n",
      "Length: 85055499 (81M) [application/x-sh]\n",
      "Saving to: ‘Miniconda3-py37_4.8.2-Linux-x86_64.sh.1’\n",
      "\n",
      "Miniconda3-py37_4.8 100%[===================>]  81.12M   144MB/s    in 0.6s    \n",
      "\n",
      "2021-07-09 17:32:40 (144 MB/s) - ‘Miniconda3-py37_4.8.2-Linux-x86_64.sh.1’ saved [85055499/85055499]\n",
      "\n",
      "PREFIX=/usr/local\n",
      "Unpacking payload ...\n",
      "Collecting package metadata (current_repodata.json): - \b\b\\ \b\bdone\n",
      "Solving environment: / \b\b- \b\b\\ \b\b| \b\b/ \b\b- \b\b\\ \b\b| \b\b/ \b\b- \b\b\\ \b\b| \b\b/ \b\bfailed with initial frozen solve. Retrying with flexible solve.\n",
      "Solving environment: \\ \b\b| \b\b/ \b\b- \b\b\\ \b\b| \b\b/ \b\b- \b\b\\ \b\b| \b\bfailed with repodata from current_repodata.json, will retry with next repodata source.\n",
      "Collecting package metadata (repodata.json): - \b\bdone\n",
      "Solving environment: | \b\b/ \b\b- \b\b\\ \b\b| \b\b/ \b\b- \b\b\\ \b\b| \b\b/ \b\b- \b\b\\ \b\b| \b\bfailed with initial frozen solve. Retrying with flexible solve.\n",
      "Solving environment: - \b\b\\ \b\b| \b\b/ \b\b- \b\b\\ \b\b| \b\b/ \b\b- \n",
      "Found conflicts! Looking for incompatible packages.\n",
      "This can take several minutes.  Press CTRL-C to abort.\n",
      "\b\b| \b\bfailed\n",
      "\n",
      "UnsatisfiableError: The following specifications were found to be incompatible with each other:\n",
      "\n",
      "Output in format: Requested package -> Available versions\n",
      "\n",
      "Package tk conflicts for:\n",
      "python-dateutil -> python -> tk[version='>=8.6.8,<8.7.0a0']\n",
      "cffi==1.14.0=py37h2e261b9_0 -> python[version='>=3.7,<3.8.0a0'] -> tk[version='>=8.6.8,<8.7.0a0']\n",
      "certifi==2019.11.28=py37_0 -> python[version='>=3.7,<3.8.0a0'] -> tk[version='>=8.6.8,<8.7.0a0']\n",
      "pandas -> python[version='>=3.7,<3.8.0a0'] -> tk[version='>=8.6.8,<8.7.0a0']\n",
      "conda-package-handling==1.6.0=py37h7b6447c_0 -> python[version='>=3.7,<3.8.0a0'] -> tk[version='>=8.6.8,<8.7.0a0']\n",
      "pillow -> tk\n",
      "setuptools==45.2.0=py37_0 -> python[version='>=3.7,<3.8.0a0'] -> tk[version='>=8.6.8,<8.7.0a0']\n",
      "pillow -> python[version='>=3.7,<3.8.0a0'] -> tk[version='>=8.6.8,<8.7.0a0']\n",
      "mkl_fft -> python[version='>=3.7,<3.8.0a0'] -> tk[version='>=8.6.8,<8.7.0a0']\n",
      "urllib3==1.25.8=py37_0 -> python[version='>=3.7,<3.8.0a0'] -> tk[version='>=8.6.8,<8.7.0a0']\n",
      "mkl-service -> python[version='>=3.7,<3.8.0a0'] -> tk[version='>=8.6.8,<8.7.0a0']\n",
      "pycosat==0.6.3=py37h7b6447c_0 -> python[version='>=3.7,<3.8.0a0'] -> tk[version='>=8.6.8,<8.7.0a0']\n",
      "idna==2.8=py37_0 -> python[version='>=3.7,<3.8.0a0'] -> tk[version='>=8.6.8,<8.7.0a0']\n",
      "pyopenssl==19.1.0=py37_0 -> python[version='>=3.7,<3.8.0a0'] -> tk[version='>=8.6.8,<8.7.0a0']\n",
      "numpy-base -> python[version='>=3.7,<3.8.0a0'] -> tk[version='>=8.6.8,<8.7.0a0']\n",
      "olefile -> python[version='>=3.7,<3.8.0a0'] -> tk[version='>=8.6.8,<8.7.0a0']\n",
      "wheel==0.34.2=py37_0 -> python[version='>=3.7,<3.8.0a0'] -> tk[version='>=8.6.8,<8.7.0a0']\n",
      "pytz -> python -> tk[version='>=8.6.8,<8.7.0a0']\n",
      "py-boost -> python[version='>=3.7,<3.8.0a0'] -> tk[version='>=8.6.8,<8.7.0a0']\n",
      "pycparser==2.19=py37_0 -> python[version='>=3.7,<3.8.0a0'] -> tk[version='>=8.6.8,<8.7.0a0']\n",
      "rdkit -> pillow -> tk[version='>=8.6.8,<8.7.0a0']\n",
      "tk==8.6.8=hbc83047_0\n",
      "chardet==3.0.4=py37_1003 -> python[version='>=3.7,<3.8.0a0'] -> tk[version='>=8.6.8,<8.7.0a0']\n",
      "numpy -> python[version='>=3.7,<3.8.0a0'] -> tk[version='>=8.6.8,<8.7.0a0']\n",
      "cryptography==2.8=py37h1ba5d50_0 -> python[version='>=3.7,<3.8.0a0'] -> tk[version='>=8.6.8,<8.7.0a0']\n",
      "asn1crypto==1.3.0=py37_0 -> python[version='>=3.7,<3.8.0a0'] -> tk[version='>=8.6.8,<8.7.0a0']\n",
      "mkl_random -> python[version='>=3.7,<3.8.0a0'] -> tk[version='>=8.6.8,<8.7.0a0']\n",
      "pysocks==1.7.1=py37_0 -> python[version='>=3.7,<3.8.0a0'] -> tk[version='>=8.6.8,<8.7.0a0']\n",
      "pip==20.0.2=py37_1 -> python[version='>=3.7,<3.8.0a0'] -> tk[version='>=8.6.8,<8.7.0a0']\n",
      "six==1.14.0=py37_0 -> python[version='>=3.7,<3.8.0a0'] -> tk[version='>=8.6.8,<8.7.0a0']\n",
      "python==3.7.6=h0371630_2 -> tk[version='>=8.6.8,<8.7.0a0']\n",
      "tqdm==4.42.1=py_0 -> python -> tk[version='>=8.6.8,<8.7.0a0']\n",
      "requests==2.22.0=py37_1 -> python[version='>=3.7,<3.8.0a0'] -> tk[version='>=8.6.8,<8.7.0a0']\n",
      "conda==4.8.2=py37_0 -> python[version='>=3.7,<3.8.0a0'] -> tk[version='>=8.6.8,<8.7.0a0']\n",
      "ruamel_yaml==0.15.87=py37h7b6447c_0 -> python[version='>=3.7,<3.8.0a0'] -> tk[version='>=8.6.8,<8.7.0a0']\n",
      "\n",
      "Package pcre conflicts for:\n",
      "glib -> pcre[version='>=8.45,<9.0a0']\n",
      "cairo -> glib[version='>=2.67.4,<3.0a0'] -> pcre[version='>=8.45,<9.0a0']\n",
      "pcre\n",
      "\n",
      "Package ld_impl_linux-64 conflicts for:\n",
      "olefile -> python[version='>=3.7,<3.8.0a0'] -> ld_impl_linux-64\n",
      "conda-package-handling==1.6.0=py37h7b6447c_0 -> python[version='>=3.7,<3.8.0a0'] -> ld_impl_linux-64\n",
      "mkl_fft -> python[version='>=3.7,<3.8.0a0'] -> ld_impl_linux-64\n",
      "pyopenssl==19.1.0=py37_0 -> python[version='>=3.7,<3.8.0a0'] -> ld_impl_linux-64\n",
      "tqdm==4.42.1=py_0 -> python -> ld_impl_linux-64\n",
      "ruamel_yaml==0.15.87=py37h7b6447c_0 -> python[version='>=3.7,<3.8.0a0'] -> ld_impl_linux-64\n",
      "six==1.14.0=py37_0 -> python[version='>=3.7,<3.8.0a0'] -> ld_impl_linux-64\n",
      "mkl-service -> python[version='>=3.7,<3.8.0a0'] -> ld_impl_linux-64\n",
      "conda==4.8.2=py37_0 -> python[version='>=3.7,<3.8.0a0'] -> ld_impl_linux-64\n",
      "python-dateutil -> python -> ld_impl_linux-64\n",
      "asn1crypto==1.3.0=py37_0 -> python[version='>=3.7,<3.8.0a0'] -> ld_impl_linux-64\n",
      "pillow -> python[version='>=3.7,<3.8.0a0'] -> ld_impl_linux-64\n",
      "urllib3==1.25.8=py37_0 -> python[version='>=3.7,<3.8.0a0'] -> ld_impl_linux-64\n",
      "idna==2.8=py37_0 -> python[version='>=3.7,<3.8.0a0'] -> ld_impl_linux-64\n",
      "rdkit -> python[version='>=3.7,<3.8.0a0'] -> ld_impl_linux-64\n",
      "pysocks==1.7.1=py37_0 -> python[version='>=3.7,<3.8.0a0'] -> ld_impl_linux-64\n",
      "pycosat==0.6.3=py37h7b6447c_0 -> python[version='>=3.7,<3.8.0a0'] -> ld_impl_linux-64\n",
      "python==3.7.6=h0371630_2 -> ld_impl_linux-64\n",
      "certifi==2019.11.28=py37_0 -> python[version='>=3.7,<3.8.0a0'] -> ld_impl_linux-64\n",
      "py-boost -> python[version='>=3.7,<3.8.0a0'] -> ld_impl_linux-64\n",
      "requests==2.22.0=py37_1 -> python[version='>=3.7,<3.8.0a0'] -> ld_impl_linux-64\n",
      "pandas -> python[version='>=3.7,<3.8.0a0'] -> ld_impl_linux-64\n",
      "setuptools==45.2.0=py37_0 -> python[version='>=3.7,<3.8.0a0'] -> ld_impl_linux-64\n",
      "pytz -> python -> ld_impl_linux-64\n",
      "cryptography==2.8=py37h1ba5d50_0 -> python[version='>=3.7,<3.8.0a0'] -> ld_impl_linux-64\n",
      "mkl_random -> python[version='>=3.7,<3.8.0a0'] -> ld_impl_linux-64\n",
      "pip==20.0.2=py37_1 -> python[version='>=3.7,<3.8.0a0'] -> ld_impl_linux-64\n",
      "numpy -> python[version='>=3.7,<3.8.0a0'] -> ld_impl_linux-64\n",
      "wheel==0.34.2=py37_0 -> python[version='>=3.7,<3.8.0a0'] -> ld_impl_linux-64\n",
      "cffi==1.14.0=py37h2e261b9_0 -> python[version='>=3.7,<3.8.0a0'] -> ld_impl_linux-64\n",
      "numpy-base -> python[version='>=3.7,<3.8.0a0'] -> ld_impl_linux-64\n",
      "chardet==3.0.4=py37_1003 -> python[version='>=3.7,<3.8.0a0'] -> ld_impl_linux-64\n",
      "ld_impl_linux-64==2.33.1=h53a641e_7\n",
      "pycparser==2.19=py37_0 -> python[version='>=3.7,<3.8.0a0'] -> ld_impl_linux-64\n",
      "\n",
      "Package cairo conflicts for:\n",
      "rdkit -> cairo[version='>=1.14.12,<2.0a0']\n",
      "cairo\n",
      "\n",
      "Package _libgcc_mutex conflicts for:\n",
      "tk==8.6.8=hbc83047_0 -> libgcc-ng[version='>=7.3.0'] -> _libgcc_mutex=[build=main]\n",
      "jpeg -> libgcc-ng[version='>=7.2.0'] -> _libgcc_mutex=[build=main]\n",
      "mkl_random -> libgcc-ng[version='>=7.3.0'] -> _libgcc_mutex=[build=main]\n",
      "libboost -> libgcc-ng[version='>=7.3.0'] -> _libgcc_mutex=[build=main]\n",
      "py-boost -> libgcc-ng[version='>=7.3.0'] -> _libgcc_mutex=[build=main]\n",
      "libedit==3.1.20181209=hc058e9b_0 -> libgcc-ng[version='>=7.3.0'] -> _libgcc_mutex=[build=main]\n",
      "mkl_fft -> libgcc-ng[version='>=7.3.0'] -> _libgcc_mutex=[build=main]\n",
      "rdkit -> libgcc-ng[version='>=7.3.0'] -> _libgcc_mutex=[build=main]\n",
      "glib -> libgcc-ng[version='>=7.5.0'] -> _libgcc_mutex=[build=main]\n",
      "cairo -> libgcc-ng[version='>=7.3.0'] -> _libgcc_mutex=[build=main]\n",
      "xz==5.2.4=h14c3975_4 -> libgcc-ng[version='>=7.2.0'] -> _libgcc_mutex=[build=main]\n",
      "cryptography==2.8=py37h1ba5d50_0 -> libgcc-ng[version='>=7.3.0'] -> _libgcc_mutex=[build=main]\n",
      "libxcb -> libgcc-ng[version='>=7.3.0'] -> _libgcc_mutex=[build=main]\n",
      "icu -> libgcc-ng[version='>=7.3.0'] -> _libgcc_mutex=[build=main]\n",
      "lcms2 -> libgcc-ng[version='>=7.3.0'] -> _libgcc_mutex=[build=main]\n",
      "conda-package-handling==1.6.0=py37h7b6447c_0 -> libgcc-ng[version='>=7.3.0'] -> _libgcc_mutex=[build=main]\n",
      "zstd -> libgcc-ng[version='>=7.3.0'] -> _libgcc_mutex=[build=main]\n",
      "pcre -> libgcc-ng[version='>=7.5.0'] -> _libgcc_mutex=[build=main]\n",
      "zlib==1.2.11=h7b6447c_3 -> libgcc-ng[version='>=7.3.0'] -> _libgcc_mutex=[build=main]\n",
      "readline==7.0=h7b6447c_5 -> libgcc-ng[version='>=7.3.0'] -> _libgcc_mutex=[build=main]\n",
      "pillow -> libgcc-ng[version='>=7.5.0'] -> _libgcc_mutex=[build=main]\n",
      "openssl==1.1.1d=h7b6447c_4 -> libgcc-ng[version='>=7.3.0'] -> _libgcc_mutex=[build=main]\n",
      "yaml==0.1.7=had09818_2 -> libgcc-ng[version='>=7.2.0'] -> _libgcc_mutex=[build=main]\n",
      "ncurses==6.2=he6710b0_0 -> libgcc-ng[version='>=7.3.0'] -> _libgcc_mutex=[build=main]\n",
      "lz4-c -> libgcc-ng[version='>=7.3.0'] -> _libgcc_mutex=[build=main]\n",
      "numpy -> libgcc-ng[version='>=7.3.0'] -> _libgcc_mutex=[build=main]\n",
      "freetype -> libgcc-ng[version='>=7.3.0'] -> _libgcc_mutex=[build=main]\n",
      "bzip2 -> libgcc-ng[version='>=7.3.0'] -> _libgcc_mutex=[build=main]\n",
      "pixman -> libgcc-ng[version='>=7.3.0'] -> _libgcc_mutex=[build=main]\n",
      "sqlite==3.31.1=h7b6447c_0 -> libgcc-ng[version='>=7.3.0'] -> _libgcc_mutex=[build=main]\n",
      "cffi==1.14.0=py37h2e261b9_0 -> libgcc-ng[version='>=7.3.0'] -> _libgcc_mutex=[build=main]\n",
      "libwebp-base -> libgcc-ng[version='>=7.3.0'] -> _libgcc_mutex=[build=main]\n",
      "ruamel_yaml==0.15.87=py37h7b6447c_0 -> libgcc-ng[version='>=7.3.0'] -> _libgcc_mutex=[build=main]\n",
      "libxml2 -> libgcc-ng[version='>=7.3.0'] -> _libgcc_mutex=[build=main]\n",
      "libtiff -> libgcc-ng[version='>=7.3.0'] -> _libgcc_mutex=[build=main]\n",
      "openjpeg -> libgcc-ng[version='>=7.2.0'] -> _libgcc_mutex=[build=main]\n",
      "mkl-service -> libgcc-ng[version='>=7.3.0'] -> _libgcc_mutex=[build=main]\n",
      "libuuid -> libgcc-ng[version='>=7.2.0'] -> _libgcc_mutex=[build=main]\n",
      "libffi==3.2.1=hd88cf55_4 -> libgcc-ng[version='>=7.2.0'] -> _libgcc_mutex=[build=main]\n",
      "pandas -> libgcc-ng[version='>=7.5.0'] -> _libgcc_mutex=[build=main]\n",
      "python==3.7.6=h0371630_2 -> libgcc-ng[version='>=7.3.0'] -> _libgcc_mutex=[build=main]\n",
      "pycosat==0.6.3=py37h7b6447c_0 -> libgcc-ng[version='>=7.3.0'] -> _libgcc_mutex=[build=main]\n",
      "libgcc-ng==9.1.0=hdf63c60_0 -> _libgcc_mutex=[build=main]\n",
      "numpy-base -> libgcc-ng[version='>=7.3.0'] -> _libgcc_mutex=[build=main]\n",
      "libpng -> libgcc-ng[version='>=7.3.0'] -> _libgcc_mutex=[build=main]\n",
      "_libgcc_mutex==0.1=main\n",
      "\n",
      "Package libstdcxx-ng conflicts for:\n",
      "asn1crypto==1.3.0=py37_0 -> python[version='>=3.7,<3.8.0a0'] -> libstdcxx-ng[version='>=7.3.0']\n",
      "rdkit -> libstdcxx-ng[version='>=7.3.0']\n",
      "pyopenssl==19.1.0=py37_0 -> python[version='>=3.7,<3.8.0a0'] -> libstdcxx-ng[version='>=7.3.0']\n",
      "pandas -> python[version='>=3.7,<3.8.0a0'] -> libstdcxx-ng[version='>=7.3.0']\n",
      "tqdm==4.42.1=py_0 -> python -> libstdcxx-ng[version='>=7.3.0']\n",
      "requests==2.22.0=py37_1 -> python[version='>=3.7,<3.8.0a0'] -> libstdcxx-ng[version='>=7.3.0']\n",
      "pillow -> libtiff[version='>=4.1.0,<5.0a0'] -> libstdcxx-ng[version='>=7.2.0|>=7.3.0']\n",
      "libboost -> libstdcxx-ng[version='>=7.3.0']\n",
      "openjpeg -> libtiff[version='>=4.0.9,<5.0a0'] -> libstdcxx-ng[version='>=7.3.0']\n",
      "six==1.14.0=py37_0 -> python[version='>=3.7,<3.8.0a0'] -> libstdcxx-ng[version='>=7.3.0']\n",
      "rdkit -> pandas -> libstdcxx-ng[version='>=7.5.0']\n",
      "libxml2 -> icu[version='>=58.2,<59.0a0'] -> libstdcxx-ng[version='>=7.3.0']\n",
      "openjpeg -> libstdcxx-ng[version='>=7.2.0']\n",
      "libedit==3.1.20181209=hc058e9b_0 -> ncurses[version='>=6.1,<7.0a0'] -> libstdcxx-ng[version='>=7.3.0']\n",
      "ruamel_yaml==0.15.87=py37h7b6447c_0 -> python[version='>=3.7,<3.8.0a0'] -> libstdcxx-ng[version='>=7.3.0']\n",
      "setuptools==45.2.0=py37_0 -> python[version='>=3.7,<3.8.0a0'] -> libstdcxx-ng[version='>=7.3.0']\n",
      "cairo -> glib[version='>=2.67.4,<3.0a0'] -> libstdcxx-ng[version='>=7.5.0']\n",
      "zstd -> libstdcxx-ng[version='>=7.3.0']\n",
      "mkl-service -> python[version='>=3.7,<3.8.0a0'] -> libstdcxx-ng[version='>=7.3.0']\n",
      "cairo -> libstdcxx-ng[version='>=7.3.0']\n",
      "idna==2.8=py37_0 -> python[version='>=3.7,<3.8.0a0'] -> libstdcxx-ng[version='>=7.3.0']\n",
      "cffi==1.14.0=py37h2e261b9_0 -> libffi[version='>=3.2.1,<4.0a0'] -> libstdcxx-ng[version='>=7.2.0|>=7.3.0']\n",
      "libstdcxx-ng==9.1.0=hdf63c60_0\n",
      "pysocks==1.7.1=py37_0 -> python[version='>=3.7,<3.8.0a0'] -> libstdcxx-ng[version='>=7.3.0']\n",
      "conda==4.8.2=py37_0 -> python[version='>=3.7,<3.8.0a0'] -> libstdcxx-ng[version='>=7.3.0']\n",
      "libtiff -> libstdcxx-ng[version='>=7.3.0']\n",
      "certifi==2019.11.28=py37_0 -> python[version='>=3.7,<3.8.0a0'] -> libstdcxx-ng[version='>=7.3.0']\n",
      "glib -> libstdcxx-ng[version='>=7.5.0']\n",
      "lcms2 -> libtiff[version='>=4.1.0,<5.0a0'] -> libstdcxx-ng[version='>=7.3.0']\n",
      "pycparser==2.19=py37_0 -> python[version='>=3.7,<3.8.0a0'] -> libstdcxx-ng[version='>=7.3.0']\n",
      "conda-package-handling==1.6.0=py37h7b6447c_0 -> python[version='>=3.7,<3.8.0a0'] -> libstdcxx-ng[version='>=7.3.0']\n",
      "pytz -> python -> libstdcxx-ng[version='>=7.3.0']\n",
      "mkl_fft -> libstdcxx-ng[version='>=7.3.0']\n",
      "readline==7.0=h7b6447c_5 -> ncurses[version='>=6.1,<7.0a0'] -> libstdcxx-ng[version='>=7.3.0']\n",
      "chardet==3.0.4=py37_1003 -> python[version='>=3.7,<3.8.0a0'] -> libstdcxx-ng[version='>=7.3.0']\n",
      "glib -> libffi[version='>=3.3,<3.4.0a0'] -> libstdcxx-ng[version='>=7.3.0']\n",
      "olefile -> python[version='>=3.7,<3.8.0a0'] -> libstdcxx-ng[version='>=7.3.0']\n",
      "pandas -> libstdcxx-ng[version='>=7.5.0']\n",
      "python==3.7.6=h0371630_2 -> libstdcxx-ng[version='>=7.3.0']\n",
      "cryptography==2.8=py37h1ba5d50_0 -> python[version='>=3.7,<3.8.0a0'] -> libstdcxx-ng[version='>=7.3.0']\n",
      "pycosat==0.6.3=py37h7b6447c_0 -> python[version='>=3.7,<3.8.0a0'] -> libstdcxx-ng[version='>=7.3.0']\n",
      "numpy -> mkl_fft -> libstdcxx-ng[version='>=7.3.0']\n",
      "libffi==3.2.1=hd88cf55_4 -> libstdcxx-ng[version='>=7.2.0']\n",
      "py-boost -> libstdcxx-ng[version='>=7.3.0']\n",
      "pcre -> libstdcxx-ng[version='>=7.5.0']\n",
      "lz4-c -> libstdcxx-ng[version='>=7.3.0']\n",
      "wheel==0.34.2=py37_0 -> python[version='>=3.7,<3.8.0a0'] -> libstdcxx-ng[version='>=7.3.0']\n",
      "pip==20.0.2=py37_1 -> python[version='>=3.7,<3.8.0a0'] -> libstdcxx-ng[version='>=7.3.0']\n",
      "python==3.7.6=h0371630_2 -> libffi[version='>=3.2.1,<4.0a0'] -> libstdcxx-ng[version='>=7.2.0']\n",
      "mkl_random -> libstdcxx-ng[version='>=7.3.0']\n",
      "ncurses==6.2=he6710b0_0 -> libstdcxx-ng[version='>=7.3.0']\n",
      "urllib3==1.25.8=py37_0 -> python[version='>=3.7,<3.8.0a0'] -> libstdcxx-ng[version='>=7.3.0']\n",
      "icu -> libstdcxx-ng[version='>=7.3.0']\n",
      "numpy-base -> python[version='>=3.7,<3.8.0a0'] -> libstdcxx-ng[version='>=7.3.0']\n",
      "python-dateutil -> python -> libstdcxx-ng[version='>=7.3.0']\n",
      "\n",
      "Package libffi conflicts for:\n",
      "pillow -> python[version='>=3.7,<3.8.0a0'] -> libffi[version='>=3.2.1,<4.0a0']\n",
      "asn1crypto==1.3.0=py37_0 -> python[version='>=3.7,<3.8.0a0'] -> libffi[version='>=3.2.1,<4.0a0']\n",
      "idna==2.8=py37_0 -> python[version='>=3.7,<3.8.0a0'] -> libffi[version='>=3.2.1,<4.0a0']\n",
      "pycparser==2.19=py37_0 -> python[version='>=3.7,<3.8.0a0'] -> libffi[version='>=3.2.1,<4.0a0']\n",
      "olefile -> python[version='>=3.7,<3.8.0a0'] -> libffi[version='>=3.2.1,<4.0a0']\n",
      "six==1.14.0=py37_0 -> python[version='>=3.7,<3.8.0a0'] -> libffi[version='>=3.2.1,<4.0a0']\n",
      "glib -> libffi[version='>=3.3,<3.4.0a0']\n",
      "pandas -> python[version='>=3.7,<3.8.0a0'] -> libffi[version='>=3.2.1,<4.0a0']\n",
      "mkl_random -> python[version='>=3.7,<3.8.0a0'] -> libffi[version='>=3.2.1,<4.0a0']\n",
      "python==3.7.6=h0371630_2 -> libffi[version='>=3.2.1,<4.0a0']\n",
      "chardet==3.0.4=py37_1003 -> python[version='>=3.7,<3.8.0a0'] -> libffi[version='>=3.2.1,<4.0a0']\n",
      "wheel==0.34.2=py37_0 -> python[version='>=3.7,<3.8.0a0'] -> libffi[version='>=3.2.1,<4.0a0']\n",
      "pytz -> python -> libffi[version='>=3.2.1,<4.0a0']\n",
      "cryptography==2.8=py37h1ba5d50_0 -> cffi[version='>=1.8'] -> libffi[version='>=3.2.1,<4.0a0']\n",
      "numpy-base -> python[version='>=3.7,<3.8.0a0'] -> libffi[version='>=3.2.1,<4.0a0']\n",
      "conda==4.8.2=py37_0 -> python[version='>=3.7,<3.8.0a0'] -> libffi[version='>=3.2.1,<4.0a0']\n",
      "mkl-service -> python[version='>=3.7,<3.8.0a0'] -> libffi[version='>=3.2.1,<4.0a0']\n",
      "numpy -> python[version='>=3.7,<3.8.0a0'] -> libffi[version='>=3.2.1,<4.0a0']\n",
      "libffi==3.2.1=hd88cf55_4\n",
      "python-dateutil -> python -> libffi[version='>=3.2.1,<4.0a0']\n",
      "rdkit -> python[version='>=3.7,<3.8.0a0'] -> libffi[version='>=3.2.1,<4.0a0']\n",
      "cffi==1.14.0=py37h2e261b9_0 -> libffi[version='>=3.2.1,<4.0a0']\n",
      "pip==20.0.2=py37_1 -> python[version='>=3.7,<3.8.0a0'] -> libffi[version='>=3.2.1,<4.0a0']\n",
      "cairo -> glib[version='>=2.67.4,<3.0a0'] -> libffi[version='>=3.3,<3.4.0a0']\n",
      "urllib3==1.25.8=py37_0 -> python[version='>=3.7,<3.8.0a0'] -> libffi[version='>=3.2.1,<4.0a0']\n",
      "mkl_fft -> python[version='>=3.7,<3.8.0a0'] -> libffi[version='>=3.2.1,<4.0a0']\n",
      "pyopenssl==19.1.0=py37_0 -> python[version='>=3.7,<3.8.0a0'] -> libffi[version='>=3.2.1,<4.0a0']\n",
      "tqdm==4.42.1=py_0 -> python -> libffi[version='>=3.2.1,<4.0a0']\n",
      "setuptools==45.2.0=py37_0 -> python[version='>=3.7,<3.8.0a0'] -> libffi[version='>=3.2.1,<4.0a0']\n",
      "conda-package-handling==1.6.0=py37h7b6447c_0 -> python[version='>=3.7,<3.8.0a0'] -> libffi[version='>=3.2.1,<4.0a0']\n",
      "py-boost -> python[version='>=3.7,<3.8.0a0'] -> libffi[version='>=3.2.1,<4.0a0']\n",
      "certifi==2019.11.28=py37_0 -> python[version='>=3.7,<3.8.0a0'] -> libffi[version='>=3.2.1,<4.0a0']\n",
      "pysocks==1.7.1=py37_0 -> python[version='>=3.7,<3.8.0a0'] -> libffi[version='>=3.2.1,<4.0a0']\n",
      "ruamel_yaml==0.15.87=py37h7b6447c_0 -> python[version='>=3.7,<3.8.0a0'] -> libffi[version='>=3.2.1,<4.0a0']\n",
      "requests==2.22.0=py37_1 -> python[version='>=3.7,<3.8.0a0'] -> libffi[version='>=3.2.1,<4.0a0']\n",
      "pycosat==0.6.3=py37h7b6447c_0 -> python[version='>=3.7,<3.8.0a0'] -> libffi[version='>=3.2.1,<4.0a0']\n",
      "\n",
      "Package ncurses conflicts for:\n",
      "pytz -> python -> ncurses[version='>=6.1,<7.0a0']\n",
      "urllib3==1.25.8=py37_0 -> python[version='>=3.7,<3.8.0a0'] -> ncurses[version='>=6.1,<7.0a0']\n",
      "tqdm==4.42.1=py_0 -> python -> ncurses[version='>=6.1,<7.0a0']\n",
      "cffi==1.14.0=py37h2e261b9_0 -> python[version='>=3.7,<3.8.0a0'] -> ncurses[version='>=6.1,<7.0a0']\n",
      "six==1.14.0=py37_0 -> python[version='>=3.7,<3.8.0a0'] -> ncurses[version='>=6.1,<7.0a0']\n",
      "python-dateutil -> python -> ncurses[version='>=6.1,<7.0a0']\n",
      "asn1crypto==1.3.0=py37_0 -> python[version='>=3.7,<3.8.0a0'] -> ncurses[version='>=6.1,<7.0a0']\n",
      "pandas -> python[version='>=3.7,<3.8.0a0'] -> ncurses[version='>=6.1,<7.0a0']\n",
      "mkl_fft -> python[version='>=3.7,<3.8.0a0'] -> ncurses[version='>=6.1,<7.0a0']\n",
      "conda==4.8.2=py37_0 -> python[version='>=3.7,<3.8.0a0'] -> ncurses[version='>=6.1,<7.0a0']\n",
      "py-boost -> python[version='>=3.7,<3.8.0a0'] -> ncurses[version='>=6.1,<7.0a0']\n",
      "pycparser==2.19=py37_0 -> python[version='>=3.7,<3.8.0a0'] -> ncurses[version='>=6.1,<7.0a0']\n",
      "certifi==2019.11.28=py37_0 -> python[version='>=3.7,<3.8.0a0'] -> ncurses[version='>=6.1,<7.0a0']\n",
      "rdkit -> python[version='>=3.7,<3.8.0a0'] -> ncurses[version='>=6.1,<7.0a0']\n",
      "sqlite==3.31.1=h7b6447c_0 -> libedit[version='>=3.1.20181209,<3.2.0a0'] -> ncurses[version='>=6.1,<7.0a0']\n",
      "requests==2.22.0=py37_1 -> python[version='>=3.7,<3.8.0a0'] -> ncurses[version='>=6.1,<7.0a0']\n",
      "python==3.7.6=h0371630_2 -> ncurses[version='>=6.1,<7.0a0']\n",
      "pip==20.0.2=py37_1 -> python[version='>=3.7,<3.8.0a0'] -> ncurses[version='>=6.1,<7.0a0']\n",
      "numpy -> python[version='>=3.7,<3.8.0a0'] -> ncurses[version='>=6.1,<7.0a0']\n",
      "cryptography==2.8=py37h1ba5d50_0 -> python[version='>=3.7,<3.8.0a0'] -> ncurses[version='>=6.1,<7.0a0']\n",
      "chardet==3.0.4=py37_1003 -> python[version='>=3.7,<3.8.0a0'] -> ncurses[version='>=6.1,<7.0a0']\n",
      "pillow -> python[version='>=3.7,<3.8.0a0'] -> ncurses[version='>=6.1,<7.0a0']\n",
      "pycosat==0.6.3=py37h7b6447c_0 -> python[version='>=3.7,<3.8.0a0'] -> ncurses[version='>=6.1,<7.0a0']\n",
      "ncurses==6.2=he6710b0_0\n",
      "libedit==3.1.20181209=hc058e9b_0 -> ncurses[version='>=6.1,<7.0a0']\n",
      "readline==7.0=h7b6447c_5 -> ncurses[version='>=6.1,<7.0a0']\n",
      "ruamel_yaml==0.15.87=py37h7b6447c_0 -> python[version='>=3.7,<3.8.0a0'] -> ncurses[version='>=6.1,<7.0a0']\n",
      "wheel==0.34.2=py37_0 -> python[version='>=3.7,<3.8.0a0'] -> ncurses[version='>=6.1,<7.0a0']\n",
      "mkl-service -> python[version='>=3.7,<3.8.0a0'] -> ncurses[version='>=6.1,<7.0a0']\n",
      "conda-package-handling==1.6.0=py37h7b6447c_0 -> python[version='>=3.7,<3.8.0a0'] -> ncurses[version='>=6.1,<7.0a0']\n",
      "pysocks==1.7.1=py37_0 -> python[version='>=3.7,<3.8.0a0'] -> ncurses[version='>=6.1,<7.0a0']\n",
      "olefile -> python[version='>=3.7,<3.8.0a0'] -> ncurses[version='>=6.1,<7.0a0']\n",
      "numpy-base -> python[version='>=3.7,<3.8.0a0'] -> ncurses[version='>=6.1,<7.0a0']\n",
      "idna==2.8=py37_0 -> python[version='>=3.7,<3.8.0a0'] -> ncurses[version='>=6.1,<7.0a0']\n",
      "setuptools==45.2.0=py37_0 -> python[version='>=3.7,<3.8.0a0'] -> ncurses[version='>=6.1,<7.0a0']\n",
      "mkl_random -> python[version='>=3.7,<3.8.0a0'] -> ncurses[version='>=6.1,<7.0a0']\n",
      "pyopenssl==19.1.0=py37_0 -> python[version='>=3.7,<3.8.0a0'] -> ncurses[version='>=6.1,<7.0a0']\n",
      "\n",
      "Package zlib conflicts for:\n",
      "idna==2.8=py37_0 -> python[version='>=3.7,<3.8.0a0'] -> zlib[version='>=1.2.11,<1.3.0a0']\n",
      "pycosat==0.6.3=py37h7b6447c_0 -> python[version='>=3.7,<3.8.0a0'] -> zlib[version='>=1.2.11,<1.3.0a0']\n",
      "py-boost -> libboost[version='>=1.73.0,<1.73.1.0a0',build=h3ff78a5_11] -> zlib[version='>=1.2.11,<1.3.0a0']\n",
      "zstd -> zlib[version='>=1.2.11,<1.3.0a0']\n",
      "pandas -> python[version='>=3.7,<3.8.0a0'] -> zlib[version='>=1.2.11,<1.3.0a0']\n",
      "olefile -> python[version='>=3.7,<3.8.0a0'] -> zlib[version='>=1.2.11,<1.3.0a0']\n",
      "cryptography==2.8=py37h1ba5d50_0 -> python[version='>=3.7,<3.8.0a0'] -> zlib[version='>=1.2.11,<1.3.0a0']\n",
      "rdkit -> cairo[version='>=1.14.12,<2.0a0'] -> zlib[version='>=1.2.11,<1.3.0a0']\n",
      "cffi==1.14.0=py37h2e261b9_0 -> python[version='>=3.7,<3.8.0a0'] -> zlib[version='>=1.2.11,<1.3.0a0']\n",
      "requests==2.22.0=py37_1 -> python[version='>=3.7,<3.8.0a0'] -> zlib[version='>=1.2.11,<1.3.0a0']\n",
      "libxml2 -> zlib[version='>=1.2.11,<1.3.0a0']\n",
      "pysocks==1.7.1=py37_0 -> python[version='>=3.7,<3.8.0a0'] -> zlib[version='>=1.2.11,<1.3.0a0']\n",
      "lcms2 -> libtiff[version='>=4.1.0,<5.0a0'] -> zlib[version='>=1.2.11,<1.3.0a0']\n",
      "freetype -> zlib[version='>=1.2.11,<1.3.0a0']\n",
      "setuptools==45.2.0=py37_0 -> python[version='>=3.7,<3.8.0a0'] -> zlib[version='>=1.2.11,<1.3.0a0']\n",
      "libpng -> zlib[version='>=1.2.11,<1.3.0a0']\n",
      "pip==20.0.2=py37_1 -> python[version='>=3.7,<3.8.0a0'] -> zlib[version='>=1.2.11,<1.3.0a0']\n",
      "tqdm==4.42.1=py_0 -> python -> zlib[version='>=1.2.11,<1.3.0a0']\n",
      "openjpeg -> zlib[version='>=1.2.11,<1.3.0a0']\n",
      "cairo -> zlib[version='>=1.2.11,<1.3.0a0']\n",
      "chardet==3.0.4=py37_1003 -> python[version='>=3.7,<3.8.0a0'] -> zlib[version='>=1.2.11,<1.3.0a0']\n",
      "python-dateutil -> python -> zlib[version='>=1.2.11,<1.3.0a0']\n",
      "urllib3==1.25.8=py37_0 -> python[version='>=3.7,<3.8.0a0'] -> zlib[version='>=1.2.11,<1.3.0a0']\n",
      "pycparser==2.19=py37_0 -> python[version='>=3.7,<3.8.0a0'] -> zlib[version='>=1.2.11,<1.3.0a0']\n",
      "libtiff -> zlib[version='>=1.2.11,<1.3.0a0']\n",
      "wheel==0.34.2=py37_0 -> python[version='>=3.7,<3.8.0a0'] -> zlib[version='>=1.2.11,<1.3.0a0']\n",
      "tk==8.6.8=hbc83047_0 -> zlib[version='>=1.2.11,<1.3.0a0']\n",
      "pyopenssl==19.1.0=py37_0 -> python[version='>=3.7,<3.8.0a0'] -> zlib[version='>=1.2.11,<1.3.0a0']\n",
      "asn1crypto==1.3.0=py37_0 -> python[version='>=3.7,<3.8.0a0'] -> zlib[version='>=1.2.11,<1.3.0a0']\n",
      "mkl_fft -> python[version='>=3.7,<3.8.0a0'] -> zlib[version='>=1.2.11,<1.3.0a0']\n",
      "conda-package-handling==1.6.0=py37h7b6447c_0 -> python[version='>=3.7,<3.8.0a0'] -> zlib[version='>=1.2.11,<1.3.0a0']\n",
      "certifi==2019.11.28=py37_0 -> python[version='>=3.7,<3.8.0a0'] -> zlib[version='>=1.2.11,<1.3.0a0']\n",
      "mkl-service -> python[version='>=3.7,<3.8.0a0'] -> zlib[version='>=1.2.11,<1.3.0a0']\n",
      "numpy -> python[version='>=3.7,<3.8.0a0'] -> zlib[version='>=1.2.11,<1.3.0a0']\n",
      "pytz -> python -> zlib[version='>=1.2.11,<1.3.0a0']\n",
      "ruamel_yaml==0.15.87=py37h7b6447c_0 -> python[version='>=3.7,<3.8.0a0'] -> zlib[version='>=1.2.11,<1.3.0a0']\n",
      "numpy-base -> python[version='>=3.7,<3.8.0a0'] -> zlib[version='>=1.2.11,<1.3.0a0']\n",
      "zlib==1.2.11=h7b6447c_3\n",
      "conda==4.8.2=py37_0 -> python[version='>=3.7,<3.8.0a0'] -> zlib[version='>=1.2.11,<1.3.0a0']\n",
      "libboost -> zlib[version='>=1.2.11,<1.3.0a0']\n",
      "glib -> zlib[version='>=1.2.11,<1.3.0a0']\n",
      "six==1.14.0=py37_0 -> python[version='>=3.7,<3.8.0a0'] -> zlib[version='>=1.2.11,<1.3.0a0']\n",
      "mkl_random -> python[version='>=3.7,<3.8.0a0'] -> zlib[version='>=1.2.11,<1.3.0a0']\n",
      "python==3.7.6=h0371630_2 -> zlib[version='>=1.2.11,<1.3.0a0']\n",
      "pillow -> zlib[version='>=1.2.11,<1.3.0a0']\n",
      "\n",
      "Package readline conflicts for:\n",
      "python-dateutil -> python -> readline[version='>=7.0,<8.0a0']\n",
      "numpy -> python[version='>=3.7,<3.8.0a0'] -> readline[version='>=7.0,<8.0a0']\n",
      "setuptools==45.2.0=py37_0 -> python[version='>=3.7,<3.8.0a0'] -> readline[version='>=7.0,<8.0a0']\n",
      "conda==4.8.2=py37_0 -> python[version='>=3.7,<3.8.0a0'] -> readline[version='>=7.0,<8.0a0']\n",
      "rdkit -> python[version='>=3.7,<3.8.0a0'] -> readline[version='>=7.0,<8.0a0']\n",
      "python==3.7.6=h0371630_2 -> readline[version='>=7.0,<8.0a0']\n",
      "cffi==1.14.0=py37h2e261b9_0 -> python[version='>=3.7,<3.8.0a0'] -> readline[version='>=7.0,<8.0a0']\n",
      "idna==2.8=py37_0 -> python[version='>=3.7,<3.8.0a0'] -> readline[version='>=7.0,<8.0a0']\n",
      "pip==20.0.2=py37_1 -> python[version='>=3.7,<3.8.0a0'] -> readline[version='>=7.0,<8.0a0']\n",
      "py-boost -> python[version='>=3.7,<3.8.0a0'] -> readline[version='>=7.0,<8.0a0']\n",
      "requests==2.22.0=py37_1 -> python[version='>=3.7,<3.8.0a0'] -> readline[version='>=7.0,<8.0a0']\n",
      "pillow -> python[version='>=3.7,<3.8.0a0'] -> readline[version='>=7.0,<8.0a0']\n",
      "urllib3==1.25.8=py37_0 -> python[version='>=3.7,<3.8.0a0'] -> readline[version='>=7.0,<8.0a0']\n",
      "pysocks==1.7.1=py37_0 -> python[version='>=3.7,<3.8.0a0'] -> readline[version='>=7.0,<8.0a0']\n",
      "pytz -> python -> readline[version='>=7.0,<8.0a0']\n",
      "cryptography==2.8=py37h1ba5d50_0 -> python[version='>=3.7,<3.8.0a0'] -> readline[version='>=7.0,<8.0a0']\n",
      "asn1crypto==1.3.0=py37_0 -> python[version='>=3.7,<3.8.0a0'] -> readline[version='>=7.0,<8.0a0']\n",
      "chardet==3.0.4=py37_1003 -> python[version='>=3.7,<3.8.0a0'] -> readline[version='>=7.0,<8.0a0']\n",
      "ruamel_yaml==0.15.87=py37h7b6447c_0 -> python[version='>=3.7,<3.8.0a0'] -> readline[version='>=7.0,<8.0a0']\n",
      "pandas -> python[version='>=3.7,<3.8.0a0'] -> readline[version='>=7.0,<8.0a0']\n",
      "tqdm==4.42.1=py_0 -> python -> readline[version='>=7.0,<8.0a0']\n",
      "numpy-base -> python[version='>=3.7,<3.8.0a0'] -> readline[version='>=7.0,<8.0a0']\n",
      "six==1.14.0=py37_0 -> python[version='>=3.7,<3.8.0a0'] -> readline[version='>=7.0,<8.0a0']\n",
      "mkl-service -> python[version='>=3.7,<3.8.0a0'] -> readline[version='>=7.0,<8.0a0']\n",
      "conda-package-handling==1.6.0=py37h7b6447c_0 -> python[version='>=3.7,<3.8.0a0'] -> readline[version='>=7.0,<8.0a0']\n",
      "pyopenssl==19.1.0=py37_0 -> python[version='>=3.7,<3.8.0a0'] -> readline[version='>=7.0,<8.0a0']\n",
      "pycparser==2.19=py37_0 -> python[version='>=3.7,<3.8.0a0'] -> readline[version='>=7.0,<8.0a0']\n",
      "pycosat==0.6.3=py37h7b6447c_0 -> python[version='>=3.7,<3.8.0a0'] -> readline[version='>=7.0,<8.0a0']\n",
      "mkl_fft -> python[version='>=3.7,<3.8.0a0'] -> readline[version='>=7.0,<8.0a0']\n",
      "readline==7.0=h7b6447c_5\n",
      "olefile -> python[version='>=3.7,<3.8.0a0'] -> readline[version='>=7.0,<8.0a0']\n",
      "wheel==0.34.2=py37_0 -> python[version='>=3.7,<3.8.0a0'] -> readline[version='>=7.0,<8.0a0']\n",
      "mkl_random -> python[version='>=3.7,<3.8.0a0'] -> readline[version='>=7.0,<8.0a0']\n",
      "certifi==2019.11.28=py37_0 -> python[version='>=3.7,<3.8.0a0'] -> readline[version='>=7.0,<8.0a0']\n",
      "\n",
      "Package openssl conflicts for:\n",
      "numpy -> python[version='>=3.7,<3.8.0a0'] -> openssl[version='>=1.1.1d,<1.1.2a']\n",
      "pip==20.0.2=py37_1 -> python[version='>=3.7,<3.8.0a0'] -> openssl[version='>=1.1.1d,<1.1.2a']\n",
      "mkl_random -> python[version='>=3.7,<3.8.0a0'] -> openssl[version='>=1.1.1d,<1.1.2a']\n",
      "tqdm==4.42.1=py_0 -> python -> openssl[version='>=1.1.1d,<1.1.2a']\n",
      "conda-package-handling==1.6.0=py37h7b6447c_0 -> python[version='>=3.7,<3.8.0a0'] -> openssl[version='>=1.1.1d,<1.1.2a']\n",
      "python==3.7.6=h0371630_2 -> openssl[version='>=1.1.1d,<1.1.2a']\n",
      "python-dateutil -> python -> openssl[version='>=1.1.1d,<1.1.2a']\n",
      "cryptography==2.8=py37h1ba5d50_0 -> openssl[version='>=1.1.1d,<1.1.2a']\n",
      "conda==4.8.2=py37_0 -> python[version='>=3.7,<3.8.0a0'] -> openssl[version='>=1.1.1d,<1.1.2a']\n",
      "cffi==1.14.0=py37h2e261b9_0 -> python[version='>=3.7,<3.8.0a0'] -> openssl[version='>=1.1.1d,<1.1.2a']\n",
      "mkl_fft -> python[version='>=3.7,<3.8.0a0'] -> openssl[version='>=1.1.1d,<1.1.2a']\n",
      "olefile -> python[version='>=3.7,<3.8.0a0'] -> openssl[version='>=1.1.1d,<1.1.2a']\n",
      "asn1crypto==1.3.0=py37_0 -> python[version='>=3.7,<3.8.0a0'] -> openssl[version='>=1.1.1d,<1.1.2a']\n",
      "certifi==2019.11.28=py37_0 -> python[version='>=3.7,<3.8.0a0'] -> openssl[version='>=1.1.1d,<1.1.2a']\n",
      "idna==2.8=py37_0 -> python[version='>=3.7,<3.8.0a0'] -> openssl[version='>=1.1.1d,<1.1.2a']\n",
      "requests==2.22.0=py37_1 -> python[version='>=3.7,<3.8.0a0'] -> openssl[version='>=1.1.1d,<1.1.2a']\n",
      "pandas -> python[version='>=3.7,<3.8.0a0'] -> openssl[version='>=1.1.1d,<1.1.2a']\n",
      "openssl==1.1.1d=h7b6447c_4\n",
      "wheel==0.34.2=py37_0 -> python[version='>=3.7,<3.8.0a0'] -> openssl[version='>=1.1.1d,<1.1.2a']\n",
      "pytz -> python -> openssl[version='>=1.1.1d,<1.1.2a']\n",
      "chardet==3.0.4=py37_1003 -> python[version='>=3.7,<3.8.0a0'] -> openssl[version='>=1.1.1d,<1.1.2a']\n",
      "ruamel_yaml==0.15.87=py37h7b6447c_0 -> python[version='>=3.7,<3.8.0a0'] -> openssl[version='>=1.1.1d,<1.1.2a']\n",
      "rdkit -> python[version='>=3.7,<3.8.0a0'] -> openssl[version='>=1.1.1d,<1.1.2a']\n",
      "numpy-base -> python[version='>=3.7,<3.8.0a0'] -> openssl[version='>=1.1.1d,<1.1.2a']\n",
      "mkl-service -> python[version='>=3.7,<3.8.0a0'] -> openssl[version='>=1.1.1d,<1.1.2a']\n",
      "pysocks==1.7.1=py37_0 -> python[version='>=3.7,<3.8.0a0'] -> openssl[version='>=1.1.1d,<1.1.2a']\n",
      "urllib3==1.25.8=py37_0 -> cryptography[version='>=1.3.4'] -> openssl[version='>=1.1.1d,<1.1.2a']\n",
      "pycparser==2.19=py37_0 -> python[version='>=3.7,<3.8.0a0'] -> openssl[version='>=1.1.1d,<1.1.2a']\n",
      "py-boost -> python[version='>=3.7,<3.8.0a0'] -> openssl[version='>=1.1.1d,<1.1.2a']\n",
      "pyopenssl==19.1.0=py37_0 -> cryptography[version='>=2.8'] -> openssl[version='>=1.1.1d,<1.1.2a']\n",
      "setuptools==45.2.0=py37_0 -> python[version='>=3.7,<3.8.0a0'] -> openssl[version='>=1.1.1d,<1.1.2a']\n",
      "pycosat==0.6.3=py37h7b6447c_0 -> python[version='>=3.7,<3.8.0a0'] -> openssl[version='>=1.1.1d,<1.1.2a']\n",
      "pillow -> python[version='>=3.7,<3.8.0a0'] -> openssl[version='>=1.1.1d,<1.1.2a']\n",
      "six==1.14.0=py37_0 -> python[version='>=3.7,<3.8.0a0'] -> openssl[version='>=1.1.1d,<1.1.2a']\n",
      "\n",
      "Package idna conflicts for:\n",
      "urllib3==1.25.8=py37_0 -> cryptography[version='>=1.3.4'] -> idna[version='>=2.1']\n",
      "urllib3==1.25.8=py37_0 -> idna[version='>=2.0.0']\n",
      "pyopenssl==19.1.0=py37_0 -> cryptography[version='>=2.8'] -> idna[version='>=2.1']\n",
      "requests==2.22.0=py37_1 -> idna[version='>=2.5,<2.9']\n",
      "conda==4.8.2=py37_0 -> requests[version='>=2.18.4,<3'] -> idna[version='>=2.5,<2.9']\n",
      "requests==2.22.0=py37_1 -> urllib3[version='>=1.21.1,<1.26,!=1.25.0,!=1.25.1'] -> idna[version='>=2.0.0']\n",
      "cryptography==2.8=py37h1ba5d50_0 -> idna[version='>=2.1']\n",
      "idna==2.8=py37_0\n",
      "\n",
      "Package sqlite conflicts for:\n",
      "pandas -> python[version='>=3.7,<3.8.0a0'] -> sqlite[version='>=3.30.1,<4.0a0']\n",
      "pillow -> python[version='>=3.7,<3.8.0a0'] -> sqlite[version='>=3.30.1,<4.0a0']\n",
      "asn1crypto==1.3.0=py37_0 -> python[version='>=3.7,<3.8.0a0'] -> sqlite[version='>=3.30.1,<4.0a0']\n",
      "pytz -> python -> sqlite[version='>=3.30.1,<4.0a0']\n",
      "pycosat==0.6.3=py37h7b6447c_0 -> python[version='>=3.7,<3.8.0a0'] -> sqlite[version='>=3.30.1,<4.0a0']\n",
      "certifi==2019.11.28=py37_0 -> python[version='>=3.7,<3.8.0a0'] -> sqlite[version='>=3.30.1,<4.0a0']\n",
      "mkl-service -> python[version='>=3.7,<3.8.0a0'] -> sqlite[version='>=3.30.1,<4.0a0']\n",
      "wheel==0.34.2=py37_0 -> python[version='>=3.7,<3.8.0a0'] -> sqlite[version='>=3.30.1,<4.0a0']\n",
      "tqdm==4.42.1=py_0 -> python -> sqlite[version='>=3.30.1,<4.0a0']\n",
      "pyopenssl==19.1.0=py37_0 -> python[version='>=3.7,<3.8.0a0'] -> sqlite[version='>=3.30.1,<4.0a0']\n",
      "idna==2.8=py37_0 -> python[version='>=3.7,<3.8.0a0'] -> sqlite[version='>=3.30.1,<4.0a0']\n",
      "requests==2.22.0=py37_1 -> python[version='>=3.7,<3.8.0a0'] -> sqlite[version='>=3.30.1,<4.0a0']\n",
      "ruamel_yaml==0.15.87=py37h7b6447c_0 -> python[version='>=3.7,<3.8.0a0'] -> sqlite[version='>=3.30.1,<4.0a0']\n",
      "numpy -> python[version='>=3.7,<3.8.0a0'] -> sqlite[version='>=3.30.1,<4.0a0']\n",
      "pip==20.0.2=py37_1 -> python[version='>=3.7,<3.8.0a0'] -> sqlite[version='>=3.30.1,<4.0a0']\n",
      "olefile -> python[version='>=3.7,<3.8.0a0'] -> sqlite[version='>=3.30.1,<4.0a0']\n",
      "chardet==3.0.4=py37_1003 -> python[version='>=3.7,<3.8.0a0'] -> sqlite[version='>=3.30.1,<4.0a0']\n",
      "cryptography==2.8=py37h1ba5d50_0 -> python[version='>=3.7,<3.8.0a0'] -> sqlite[version='>=3.30.1,<4.0a0']\n",
      "setuptools==45.2.0=py37_0 -> python[version='>=3.7,<3.8.0a0'] -> sqlite[version='>=3.30.1,<4.0a0']\n",
      "conda==4.8.2=py37_0 -> python[version='>=3.7,<3.8.0a0'] -> sqlite[version='>=3.30.1,<4.0a0']\n",
      "python==3.7.6=h0371630_2 -> sqlite[version='>=3.30.1,<4.0a0']\n",
      "six==1.14.0=py37_0 -> python[version='>=3.7,<3.8.0a0'] -> sqlite[version='>=3.30.1,<4.0a0']\n",
      "sqlite==3.31.1=h7b6447c_0\n",
      "mkl_random -> python[version='>=3.7,<3.8.0a0'] -> sqlite[version='>=3.30.1,<4.0a0']\n",
      "mkl_fft -> python[version='>=3.7,<3.8.0a0'] -> sqlite[version='>=3.30.1,<4.0a0']\n",
      "conda-package-handling==1.6.0=py37h7b6447c_0 -> python[version='>=3.7,<3.8.0a0'] -> sqlite[version='>=3.30.1,<4.0a0']\n",
      "pycparser==2.19=py37_0 -> python[version='>=3.7,<3.8.0a0'] -> sqlite[version='>=3.30.1,<4.0a0']\n",
      "py-boost -> python[version='>=3.7,<3.8.0a0'] -> sqlite[version='>=3.30.1,<4.0a0']\n",
      "python-dateutil -> python -> sqlite[version='>=3.30.1,<4.0a0']\n",
      "pysocks==1.7.1=py37_0 -> python[version='>=3.7,<3.8.0a0'] -> sqlite[version='>=3.30.1,<4.0a0']\n",
      "rdkit -> python[version='>=3.7,<3.8.0a0'] -> sqlite[version='>=3.30.1,<4.0a0']\n",
      "numpy-base -> python[version='>=3.7,<3.8.0a0'] -> sqlite[version='>=3.30.1,<4.0a0']\n",
      "cffi==1.14.0=py37h2e261b9_0 -> python[version='>=3.7,<3.8.0a0'] -> sqlite[version='>=3.30.1,<4.0a0']\n",
      "urllib3==1.25.8=py37_0 -> python[version='>=3.7,<3.8.0a0'] -> sqlite[version='>=3.30.1,<4.0a0']\n",
      "\n",
      "Package numpy-base conflicts for:\n",
      "numpy-base\n",
      "numpy -> numpy-base==1.20.2=py37hfae3a4d_0\n",
      "rdkit -> numpy[version='>=1.12'] -> numpy-base==1.20.2=py37hfae3a4d_0\n",
      "pandas -> numpy[version='>=1.20.2,<2.0a0'] -> numpy-base==1.20.2=py37hfae3a4d_0\n",
      "mkl_random -> numpy[version='>=1.16,<2.0a0'] -> numpy-base==1.20.2=py37hfae3a4d_0\n",
      "mkl_fft -> numpy[version='>=1.16,<2.0a0'] -> numpy-base==1.20.2=py37hfae3a4d_0\n",
      "\n",
      "Package cryptography conflicts for:\n",
      "cryptography==2.8=py37h1ba5d50_0\n",
      "urllib3==1.25.8=py37_0 -> pyopenssl[version='>=0.14'] -> cryptography[version='>=2.8']\n",
      "urllib3==1.25.8=py37_0 -> cryptography[version='>=1.3.4']\n",
      "pyopenssl==19.1.0=py37_0 -> cryptography[version='>=2.8']\n",
      "requests==2.22.0=py37_1 -> urllib3[version='>=1.21.1,<1.26,!=1.25.0,!=1.25.1'] -> cryptography[version='>=1.3.4']\n",
      "conda==4.8.2=py37_0 -> pyopenssl[version='>=16.2.0'] -> cryptography[version='>=2.8']\n",
      "\n",
      "Package xz conflicts for:\n",
      "ruamel_yaml==0.15.87=py37h7b6447c_0 -> python[version='>=3.7,<3.8.0a0'] -> xz[version='>=5.2.4,<6.0a0']\n",
      "pycparser==2.19=py37_0 -> python[version='>=3.7,<3.8.0a0'] -> xz[version='>=5.2.4,<6.0a0']\n",
      "zstd -> xz[version='>=5.2.5,<6.0a0']\n",
      "py-boost -> libboost[version='>=1.73.0,<1.73.1.0a0',build=h3ff78a5_11] -> xz[version='>=5.2.4,<6.0a0|>=5.2.5,<6.0a0']\n",
      "cffi==1.14.0=py37h2e261b9_0 -> python[version='>=3.7,<3.8.0a0'] -> xz[version='>=5.2.4,<6.0a0']\n",
      "wheel==0.34.2=py37_0 -> python[version='>=3.7,<3.8.0a0'] -> xz[version='>=5.2.4,<6.0a0']\n",
      "mkl_fft -> python[version='>=3.7,<3.8.0a0'] -> xz[version='>=5.2.4,<6.0a0']\n",
      "xz==5.2.4=h14c3975_4\n",
      "requests==2.22.0=py37_1 -> python[version='>=3.7,<3.8.0a0'] -> xz[version='>=5.2.4,<6.0a0']\n",
      "pysocks==1.7.1=py37_0 -> python[version='>=3.7,<3.8.0a0'] -> xz[version='>=5.2.4,<6.0a0']\n",
      "pyopenssl==19.1.0=py37_0 -> python[version='>=3.7,<3.8.0a0'] -> xz[version='>=5.2.4,<6.0a0']\n",
      "pandas -> python[version='>=3.7,<3.8.0a0'] -> xz[version='>=5.2.4,<6.0a0']\n",
      "pillow -> libtiff[version='>=4.1.0,<5.0a0'] -> xz[version='>=5.2.4,<6.0a0|>=5.2.5,<6.0a0']\n",
      "asn1crypto==1.3.0=py37_0 -> python[version='>=3.7,<3.8.0a0'] -> xz[version='>=5.2.4,<6.0a0']\n",
      "conda==4.8.2=py37_0 -> python[version='>=3.7,<3.8.0a0'] -> xz[version='>=5.2.4,<6.0a0']\n",
      "mkl-service -> python[version='>=3.7,<3.8.0a0'] -> xz[version='>=5.2.4,<6.0a0']\n",
      "python==3.7.6=h0371630_2 -> xz[version='>=5.2.4,<6.0a0']\n",
      "chardet==3.0.4=py37_1003 -> python[version='>=3.7,<3.8.0a0'] -> xz[version='>=5.2.4,<6.0a0']\n",
      "mkl_random -> python[version='>=3.7,<3.8.0a0'] -> xz[version='>=5.2.4,<6.0a0']\n",
      "pycosat==0.6.3=py37h7b6447c_0 -> python[version='>=3.7,<3.8.0a0'] -> xz[version='>=5.2.4,<6.0a0']\n",
      "idna==2.8=py37_0 -> python[version='>=3.7,<3.8.0a0'] -> xz[version='>=5.2.4,<6.0a0']\n",
      "urllib3==1.25.8=py37_0 -> python[version='>=3.7,<3.8.0a0'] -> xz[version='>=5.2.4,<6.0a0']\n",
      "libtiff -> xz[version='>=5.2.5,<6.0a0']\n",
      "tqdm==4.42.1=py_0 -> python -> xz[version='>=5.2.4,<6.0a0']\n",
      "certifi==2019.11.28=py37_0 -> python[version='>=3.7,<3.8.0a0'] -> xz[version='>=5.2.4,<6.0a0']\n",
      "lcms2 -> libtiff[version='>=4.1.0,<5.0a0'] -> xz[version='>=5.2.5,<6.0a0']\n",
      "libboost -> xz[version='>=5.2.5,<6.0a0']\n",
      "setuptools==45.2.0=py37_0 -> python[version='>=3.7,<3.8.0a0'] -> xz[version='>=5.2.4,<6.0a0']\n",
      "pytz -> python -> xz[version='>=5.2.4,<6.0a0']\n",
      "numpy -> python[version='>=3.7,<3.8.0a0'] -> xz[version='>=5.2.4,<6.0a0']\n",
      "olefile -> python[version='>=3.7,<3.8.0a0'] -> xz[version='>=5.2.4,<6.0a0']\n",
      "numpy-base -> python[version='>=3.7,<3.8.0a0'] -> xz[version='>=5.2.4,<6.0a0']\n",
      "python-dateutil -> python -> xz[version='>=5.2.4,<6.0a0']\n",
      "conda-package-handling==1.6.0=py37h7b6447c_0 -> python[version='>=3.7,<3.8.0a0'] -> xz[version='>=5.2.4,<6.0a0']\n",
      "pip==20.0.2=py37_1 -> python[version='>=3.7,<3.8.0a0'] -> xz[version='>=5.2.4,<6.0a0']\n",
      "cryptography==2.8=py37h1ba5d50_0 -> python[version='>=3.7,<3.8.0a0'] -> xz[version='>=5.2.4,<6.0a0']\n",
      "openjpeg -> libtiff[version='>=4.0.9,<5.0a0'] -> xz[version='>=5.2.5,<6.0a0']\n",
      "libxml2 -> xz[version='>=5.2.5,<6.0a0']\n",
      "rdkit -> libboost[version='>=1.73.0,<1.74.0a0'] -> xz[version='>=5.2.4,<6.0a0|>=5.2.5,<6.0a0']\n",
      "six==1.14.0=py37_0 -> python[version='>=3.7,<3.8.0a0'] -> xz[version='>=5.2.4,<6.0a0']\n",
      "\n",
      "Package mkl-service conflicts for:\n",
      "mkl_random -> mkl-service[version='>=2.3.0,<3.0a0']\n",
      "numpy-base -> mkl-service[version='>=2.3.0,<3.0a0']\n",
      "mkl-service\n",
      "rdkit -> numpy[version='>=1.12'] -> mkl-service[version='>=2.3.0,<3.0a0']\n",
      "mkl_fft -> mkl-service[version='>=2.3.0,<3.0a0']\n",
      "numpy -> mkl-service[version='>=2.3.0,<3.0a0']\n",
      "pandas -> numpy[version='>=1.20.2,<2.0a0'] -> mkl-service[version='>=2.3.0,<3.0a0']\n",
      "\n",
      "Package libgcc-ng conflicts for:\n",
      "rdkit -> libgcc-ng[version='>=7.3.0']\n",
      "libgcc-ng==9.1.0=hdf63c60_0\n",
      "cryptography==2.8=py37h1ba5d50_0 -> libgcc-ng[version='>=7.3.0']\n",
      "numpy-base -> libgcc-ng[version='>=7.3.0']\n",
      "cffi==1.14.0=py37h2e261b9_0 -> libffi[version='>=3.2.1,<4.0a0'] -> libgcc-ng[version='>=7.2.0']\n",
      "urllib3==1.25.8=py37_0 -> cryptography[version='>=1.3.4'] -> libgcc-ng[version='>=7.3.0']\n",
      "openssl==1.1.1d=h7b6447c_4 -> libgcc-ng[version='>=7.3.0']\n",
      "python==3.7.6=h0371630_2 -> libgcc-ng[version='>=7.3.0']\n",
      "freetype -> libgcc-ng[version='>=7.3.0']\n",
      "xz==5.2.4=h14c3975_4 -> libgcc-ng[version='>=7.2.0']\n",
      "pixman -> libgcc-ng[version='>=7.3.0']\n",
      "ruamel_yaml==0.15.87=py37h7b6447c_0 -> yaml[version='>=0.1.7,<0.2.0a0'] -> libgcc-ng[version='>=7.2.0']\n",
      "python-dateutil -> python -> libgcc-ng[version='>=7.3.0']\n",
      "tqdm==4.42.1=py_0 -> python -> libgcc-ng[version='>=7.3.0']\n",
      "glib -> libffi[version='>=3.3,<3.4.0a0'] -> libgcc-ng[version='>=7.3.0']\n",
      "libedit==3.1.20181209=hc058e9b_0 -> libgcc-ng[version='>=7.3.0']\n",
      "cairo -> glib[version='>=2.67.4,<3.0a0'] -> libgcc-ng[version='>=7.5.0']\n",
      "asn1crypto==1.3.0=py37_0 -> python[version='>=3.7,<3.8.0a0'] -> libgcc-ng[version='>=7.3.0']\n",
      "conda==4.8.2=py37_0 -> conda-package-handling[version='>=1.3.0'] -> libgcc-ng[version='>=7.3.0']\n",
      "lz4-c -> libgcc-ng[version='>=7.3.0']\n",
      "libffi==3.2.1=hd88cf55_4 -> libgcc-ng[version='>=7.2.0']\n",
      "readline==7.0=h7b6447c_5 -> libgcc-ng[version='>=7.3.0']\n",
      "zstd -> libgcc-ng[version='>=7.3.0']\n",
      "pytz -> python -> libgcc-ng[version='>=7.3.0']\n",
      "zlib==1.2.11=h7b6447c_3 -> libgcc-ng[version='>=7.3.0']\n",
      "certifi==2019.11.28=py37_0 -> python[version='>=3.7,<3.8.0a0'] -> libgcc-ng[version='>=7.3.0']\n",
      "mkl_random -> libgcc-ng[version='>=7.3.0']\n",
      "mkl_fft -> libgcc-ng[version='>=7.3.0']\n",
      "libxml2 -> libgcc-ng[version='>=7.3.0']\n",
      "pillow -> libgcc-ng[version='>=7.5.0']\n",
      "requests==2.22.0=py37_1 -> python[version='>=3.7,<3.8.0a0'] -> libgcc-ng[version='>=7.3.0']\n",
      "setuptools==45.2.0=py37_0 -> python[version='>=3.7,<3.8.0a0'] -> libgcc-ng[version='>=7.3.0']\n",
      "libpng -> libgcc-ng[version='>=7.3.0']\n",
      "libwebp-base -> libgcc-ng[version='>=7.3.0']\n",
      "pcre -> libgcc-ng[version='>=7.5.0']\n",
      "ruamel_yaml==0.15.87=py37h7b6447c_0 -> libgcc-ng[version='>=7.3.0']\n",
      "yaml==0.1.7=had09818_2 -> libgcc-ng[version='>=7.2.0']\n",
      "numpy -> libgcc-ng[version='>=7.3.0']\n",
      "mkl-service -> libgcc-ng[version='>=7.3.0']\n",
      "pandas -> numpy[version='>=1.20.2,<2.0a0'] -> libgcc-ng[version='>=7.3.0']\n",
      "cairo -> libgcc-ng[version='>=7.3.0']\n",
      "pandas -> libgcc-ng[version='>=7.5.0']\n",
      "openjpeg -> libgcc-ng[version='>=7.2.0']\n",
      "libxcb -> libgcc-ng[version='>=7.3.0']\n",
      "pyopenssl==19.1.0=py37_0 -> cryptography[version='>=2.8'] -> libgcc-ng[version='>=7.3.0']\n",
      "wheel==0.34.2=py37_0 -> python[version='>=3.7,<3.8.0a0'] -> libgcc-ng[version='>=7.3.0']\n",
      "pysocks==1.7.1=py37_0 -> python[version='>=3.7,<3.8.0a0'] -> libgcc-ng[version='>=7.3.0']\n",
      "ncurses==6.2=he6710b0_0 -> libgcc-ng[version='>=7.3.0']\n",
      "cffi==1.14.0=py37h2e261b9_0 -> libgcc-ng[version='>=7.3.0']\n",
      "six==1.14.0=py37_0 -> python[version='>=3.7,<3.8.0a0'] -> libgcc-ng[version='>=7.3.0']\n",
      "jpeg -> libgcc-ng[version='>=7.2.0']\n",
      "icu -> libgcc-ng[version='>=7.3.0']\n",
      "pillow -> freetype[version='>=2.10.4,<3.0a0'] -> libgcc-ng[version='>=7.2.0|>=7.3.0']\n",
      "openjpeg -> libpng[version='>=1.6.34,<1.7.0a0'] -> libgcc-ng[version='>=7.3.0']\n",
      "sqlite==3.31.1=h7b6447c_0 -> libgcc-ng[version='>=7.3.0']\n",
      "libtiff -> jpeg[version='>=9b,<10a'] -> libgcc-ng[version='>=7.2.0']\n",
      "glib -> libgcc-ng[version='>=7.5.0']\n",
      "libtiff -> libgcc-ng[version='>=7.3.0']\n",
      "idna==2.8=py37_0 -> python[version='>=3.7,<3.8.0a0'] -> libgcc-ng[version='>=7.3.0']\n",
      "lcms2 -> libgcc-ng[version='>=7.3.0']\n",
      "py-boost -> libgcc-ng[version='>=7.3.0']\n",
      "chardet==3.0.4=py37_1003 -> python[version='>=3.7,<3.8.0a0'] -> libgcc-ng[version='>=7.3.0']\n",
      "tk==8.6.8=hbc83047_0 -> libgcc-ng[version='>=7.3.0']\n",
      "conda-package-handling==1.6.0=py37h7b6447c_0 -> libgcc-ng[version='>=7.3.0']\n",
      "lcms2 -> jpeg[version='>=9b,<10a'] -> libgcc-ng[version='>=7.2.0']\n",
      "libboost -> libgcc-ng[version='>=7.3.0']\n",
      "olefile -> python[version='>=3.7,<3.8.0a0'] -> libgcc-ng[version='>=7.3.0']\n",
      "bzip2 -> libgcc-ng[version='>=7.3.0']\n",
      "pycparser==2.19=py37_0 -> python[version='>=3.7,<3.8.0a0'] -> libgcc-ng[version='>=7.3.0']\n",
      "rdkit -> pandas -> libgcc-ng[version='>=7.5.0']\n",
      "python==3.7.6=h0371630_2 -> libffi[version='>=3.2.1,<4.0a0'] -> libgcc-ng[version='>=7.2.0']\n",
      "libuuid -> libgcc-ng[version='>=7.2.0']\n",
      "pip==20.0.2=py37_1 -> python[version='>=3.7,<3.8.0a0'] -> libgcc-ng[version='>=7.3.0']\n",
      "pycosat==0.6.3=py37h7b6447c_0 -> libgcc-ng[version='>=7.3.0']\n",
      "\n",
      "Package urllib3 conflicts for:\n",
      "conda==4.8.2=py37_0 -> requests[version='>=2.18.4,<3'] -> urllib3[version='>=1.21.1,<1.26,!=1.25.0,!=1.25.1']\n",
      "urllib3==1.25.8=py37_0\n",
      "requests==2.22.0=py37_1 -> urllib3[version='>=1.21.1,<1.26,!=1.25.0,!=1.25.1']\n",
      "\n",
      "Package libboost conflicts for:\n",
      "rdkit -> py-boost -> libboost[version='>=1.73.0,<1.73.1.0a0',build=h3ff78a5_11]\n",
      "rdkit -> libboost[version='>=1.73.0,<1.74.0a0']\n",
      "libboost\n",
      "py-boost -> libboost[version='>=1.73.0,<1.73.1.0a0',build=h3ff78a5_11]\n",
      "\n",
      "Package lz4-c conflicts for:\n",
      "zstd -> lz4-c[version='>=1.9.3,<1.10.0a0']\n",
      "lz4-c\n",
      "libtiff -> zstd[version='>=1.4.5,<1.5.0a0'] -> lz4-c[version='>=1.9.3,<1.10.0a0']\n",
      "libboost -> zstd[version='>=1.4.5,<1.5.0a0'] -> lz4-c[version='>=1.9.3,<1.10.0a0']\n",
      "\n",
      "Package python conflicts for:\n",
      "pysocks==1.7.1=py37_0 -> python[version='>=3.7,<3.8.0a0']\n",
      "setuptools==45.2.0=py37_0 -> python[version='>=3.7,<3.8.0a0']\n",
      "pycparser==2.19=py37_0 -> python[version='>=3.7,<3.8.0a0']\n",
      "pandas -> python-dateutil[version='>=2.7.3'] -> python\n",
      "mkl_fft -> python[version='>=3.7,<3.8.0a0']\n",
      "python==3.7.6=h0371630_2\n",
      "numpy -> python[version='>=3.7,<3.8.0a0']\n",
      "chardet==3.0.4=py37_1003 -> python[version='>=3.7,<3.8.0a0']\n",
      "cryptography==2.8=py37h1ba5d50_0 -> python[version='>=3.7,<3.8.0a0']\n",
      "conda-package-handling==1.6.0=py37h7b6447c_0 -> tqdm -> python\n",
      "wheel==0.34.2=py37_0 -> python[version='>=3.7,<3.8.0a0']\n",
      "tqdm==4.42.1=py_0 -> python\n",
      "six==1.14.0=py37_0 -> python[version='>=3.7,<3.8.0a0']\n",
      "pyopenssl==19.1.0=py37_0 -> python[version='>=3.7,<3.8.0a0']\n",
      "pandas -> python[version='>=3.7,<3.8.0a0']\n",
      "py-boost -> python[version='>=3.7,<3.8.0a0']\n",
      "pip==20.0.2=py37_1 -> python[version='>=3.7,<3.8.0a0']\n",
      "ruamel_yaml==0.15.87=py37h7b6447c_0 -> python[version='>=3.7,<3.8.0a0']\n",
      "python-dateutil -> python\n",
      "cffi==1.14.0=py37h2e261b9_0 -> python[version='>=3.7,<3.8.0a0']\n",
      "conda==4.8.2=py37_0 -> python[version='>=3.7,<3.8.0a0']\n",
      "requests==2.22.0=py37_1 -> python[version='>=3.7,<3.8.0a0']\n",
      "asn1crypto==1.3.0=py37_0 -> python[version='>=3.7,<3.8.0a0']\n",
      "rdkit -> python[version='>=3.7,<3.8.0a0']\n",
      "mkl_random -> python[version='>=3.7,<3.8.0a0']\n",
      "urllib3==1.25.8=py37_0 -> python[version='>=3.7,<3.8.0a0']\n",
      "idna==2.8=py37_0 -> python[version='>=3.7,<3.8.0a0']\n",
      "numpy-base -> python[version='>=3.7,<3.8.0a0']\n",
      "pillow -> python[version='>=3.7,<3.8.0a0']\n",
      "pycosat==0.6.3=py37h7b6447c_0 -> python[version='>=3.7,<3.8.0a0']\n",
      "python-dateutil -> six[version='>=1.5'] -> python[version='>=3.7,<3.8.0a0']\n",
      "mkl-service -> python[version='>=3.7,<3.8.0a0']\n",
      "pytz -> python\n",
      "conda-package-handling==1.6.0=py37h7b6447c_0 -> python[version='>=3.7,<3.8.0a0']\n",
      "olefile -> python[version='>=3.7,<3.8.0a0']\n",
      "certifi==2019.11.28=py37_0 -> python[version='>=3.7,<3.8.0a0']\n",
      "\n",
      "Package freetype conflicts for:\n",
      "pillow -> freetype[version='>=2.10.4,<3.0a0']\n",
      "rdkit -> freetype[version='>=2.10.3,<3.0a0']\n",
      "rdkit -> cairo[version='>=1.14.12,<2.0a0'] -> freetype[version='>=2.10.4,<3.0a0']\n",
      "cairo -> freetype[version='>=2.10.4,<3.0a0']\n",
      "freetype\n",
      "\n",
      "Package jpeg conflicts for:\n",
      "libtiff -> jpeg[version='>=9b,<10a']\n",
      "rdkit -> pillow -> jpeg\n",
      "pillow -> jpeg\n",
      "jpeg\n",
      "lcms2 -> jpeg[version='>=9b,<10a']\n",
      "openjpeg -> libtiff[version='>=4.0.9,<5.0a0'] -> jpeg[version='>=9b,<10a']\n",
      "pillow -> lcms2[version='>=2.12,<3.0a0'] -> jpeg[version='>=9b,<10a']\n",
      "\n",
      "Package certifi conflicts for:\n",
      "requests==2.22.0=py37_1 -> urllib3[version='>=1.21.1,<1.26,!=1.25.0,!=1.25.1'] -> certifi\n",
      "setuptools==45.2.0=py37_0 -> certifi[version='>=2016.9.26']\n",
      "pip==20.0.2=py37_1 -> setuptools -> certifi[version='>=2016.9.26']\n",
      "certifi==2019.11.28=py37_0\n",
      "urllib3==1.25.8=py37_0 -> certifi\n",
      "requests==2.22.0=py37_1 -> certifi[version='>=2017.4.17']\n",
      "wheel==0.34.2=py37_0 -> setuptools -> certifi[version='>=2016.9.26']\n",
      "conda==4.8.2=py37_0 -> requests[version='>=2.18.4,<3'] -> certifi[version='>=2016.9.26|>=2017.4.17']\n",
      "\n",
      "Package mkl conflicts for:\n",
      "mkl_random -> mkl[version='>=2021.2.0,<2022.0a0']\n",
      "rdkit -> numpy[version='>=1.12'] -> mkl[version='>=2021.2.0,<2022.0a0']\n",
      "mkl\n",
      "mkl-service -> mkl[version='>=2021.2.0,<2022.0a0']\n",
      "numpy-base -> mkl[version='>=2021.2.0,<2022.0a0']\n",
      "numpy -> mkl[version='>=2021.2.0,<2022.0a0']\n",
      "mkl_fft -> mkl[version='>=2021.2.0,<2022.0a0']\n",
      "pandas -> numpy[version='>=1.20.2,<2.0a0'] -> mkl[version='>=2021.2.0,<2022.0a0']\n",
      "\n",
      "Package ca-certificates conflicts for:\n",
      "openssl==1.1.1d=h7b6447c_4 -> ca-certificates\n",
      "cryptography==2.8=py37h1ba5d50_0 -> openssl[version='>=1.1.1d,<1.1.2a'] -> ca-certificates\n",
      "python==3.7.6=h0371630_2 -> openssl[version='>=1.1.1d,<1.1.2a'] -> ca-certificates\n",
      "ca-certificates==2020.1.1=0\n",
      "\n",
      "Package wheel conflicts for:\n",
      "pip==20.0.2=py37_1 -> wheel\n",
      "wheel==0.34.2=py37_0\n",
      "\n",
      "Package icu conflicts for:\n",
      "libboost -> icu[version='>=58.2,<59.0a0']\n",
      "icu\n",
      "rdkit -> libboost[version='>=1.73.0,<1.74.0a0'] -> icu[version='>=58.2,<59.0a0']\n",
      "libxml2 -> icu[version='>=58.2,<59.0a0']\n",
      "py-boost -> libboost[version='>=1.73.0,<1.73.1.0a0',build=h3ff78a5_11] -> icu[version='>=58.2,<59.0a0']\n",
      "\n",
      "Package libxcb conflicts for:\n",
      "rdkit -> cairo[version='>=1.14.12,<2.0a0'] -> libxcb[version='>=1.14,<2.0a0']\n",
      "libxcb\n",
      "cairo -> libxcb[version='>=1.14,<2.0a0']\n",
      "\n",
      "Package six conflicts for:\n",
      "pyopenssl==19.1.0=py37_0 -> six[version='>=1.5.2']\n",
      "python-dateutil -> six[version='>=1.5']\n",
      "pandas -> python-dateutil[version='>=2.7.3'] -> six[version='>=1.5']\n",
      "pyopenssl==19.1.0=py37_0 -> cryptography[version='>=2.8'] -> six[version='>=1.4.1']\n",
      "mkl-service -> six\n",
      "conda==4.8.2=py37_0 -> conda-package-handling[version='>=1.3.0'] -> six[version='>=1.5.2']\n",
      "cryptography==2.8=py37h1ba5d50_0 -> six[version='>=1.4.1']\n",
      "mkl_fft -> mkl-service[version='>=2.3.0,<3.0a0'] -> six\n",
      "mkl_random -> mkl-service[version='>=2.3.0,<3.0a0'] -> six\n",
      "numpy-base -> mkl-service[version='>=2.3.0,<3.0a0'] -> six\n",
      "six==1.14.0=py37_0\n",
      "numpy -> mkl-service[version='>=2.3.0,<3.0a0'] -> six\n",
      "urllib3==1.25.8=py37_0 -> cryptography[version='>=1.3.4'] -> six[version='>=1.4.1|>=1.5.2']\n",
      "conda-package-handling==1.6.0=py37h7b6447c_0 -> six\n",
      "\n",
      "Package glib conflicts for:\n",
      "glib\n",
      "cairo -> glib[version='>=2.67.4,<3.0a0']\n",
      "rdkit -> cairo[version='>=1.14.12,<2.0a0'] -> glib[version='>=2.67.4,<3.0a0']\n",
      "\n",
      "Package libedit conflicts for:\n",
      "python==3.7.6=h0371630_2 -> sqlite[version='>=3.30.1,<4.0a0'] -> libedit[version='>=3.1.20181209,<3.2.0a0']\n",
      "libedit==3.1.20181209=hc058e9b_0\n",
      "sqlite==3.31.1=h7b6447c_0 -> libedit[version='>=3.1.20181209,<3.2.0a0']\n",
      "\n",
      "Package pytz conflicts for:\n",
      "rdkit -> pandas -> pytz[version='>=2017.3']\n",
      "pytz\n",
      "pandas -> pytz[version='>=2017.3']\n",
      "\n",
      "Package intel-openmp conflicts for:\n",
      "mkl -> intel-openmp=2021\n",
      "mkl_random -> mkl[version='>=2021.2.0,<2022.0a0'] -> intel-openmp=2021\n",
      "mkl-service -> mkl[version='>=2021.2.0,<2022.0a0'] -> intel-openmp=2021\n",
      "numpy-base -> mkl[version='>=2021.2.0,<2022.0a0'] -> intel-openmp=2021\n",
      "numpy -> mkl[version='>=2021.2.0,<2022.0a0'] -> intel-openmp=2021\n",
      "mkl_fft -> mkl[version='>=2021.2.0,<2022.0a0'] -> intel-openmp=2021\n",
      "intel-openmp\n",
      "\n",
      "Package pycosat conflicts for:\n",
      "pycosat==0.6.3=py37h7b6447c_0\n",
      "conda==4.8.2=py37_0 -> pycosat[version='>=0.6.3']\n",
      "\n",
      "Package zstd conflicts for:\n",
      "openjpeg -> libtiff[version='>=4.0.9,<5.0a0'] -> zstd[version='>=1.4.5,<1.5.0a0']\n",
      "rdkit -> libboost[version='>=1.73.0,<1.74.0a0'] -> zstd[version='>=1.4.5,<1.5.0a0']\n",
      "libtiff -> zstd[version='>=1.4.5,<1.5.0a0']\n",
      "pillow -> libtiff[version='>=4.1.0,<5.0a0'] -> zstd[version='>=1.4.5,<1.5.0a0']\n",
      "py-boost -> libboost[version='>=1.73.0,<1.73.1.0a0',build=h3ff78a5_11] -> zstd[version='>=1.4.5,<1.5.0a0']\n",
      "zstd\n",
      "libboost -> zstd[version='>=1.4.5,<1.5.0a0']\n",
      "lcms2 -> libtiff[version='>=4.1.0,<5.0a0'] -> zstd[version='>=1.4.5,<1.5.0a0']\n",
      "\n",
      "Package chardet conflicts for:\n",
      "requests==2.22.0=py37_1 -> chardet[version='>=3.0.2,<3.1.0']\n",
      "chardet==3.0.4=py37_1003\n",
      "conda==4.8.2=py37_0 -> requests[version='>=2.18.4,<3'] -> chardet[version='>=3.0.2,<3.1.0']\n",
      "\n",
      "Package libpng conflicts for:\n",
      "openjpeg -> libpng[version='>=1.6.34,<1.7.0a0']\n",
      "pillow -> freetype[version='>=2.10.4,<3.0a0'] -> libpng[version='>=1.6.34,<1.7.0a0|>=1.6.37,<1.7.0a0']\n",
      "libpng\n",
      "rdkit -> cairo[version='>=1.14.12,<2.0a0'] -> libpng[version='>=1.6.37,<1.7.0a0']\n",
      "freetype -> libpng[version='>=1.6.37,<1.7.0a0']\n",
      "cairo -> libpng[version='>=1.6.37,<1.7.0a0']\n",
      "\n",
      "Package blas conflicts for:\n",
      "pandas -> numpy[version='>=1.20.2,<2.0a0'] -> blas==1.0=mkl\n",
      "numpy -> blas==1.0=mkl\n",
      "mkl_fft -> blas==1.0=mkl\n",
      "numpy-base -> blas==1.0=mkl\n",
      "numpy -> mkl_random -> blas=[build=mkl]\n",
      "blas\n",
      "mkl_random -> blas=[build=mkl]\n",
      "mkl_random -> numpy[version='>=1.16,<2.0a0'] -> blas==1.0=mkl\n",
      "rdkit -> numpy[version='>=1.12'] -> blas==1.0=mkl\n",
      "\n",
      "Package pysocks conflicts for:\n",
      "requests==2.22.0=py37_1 -> urllib3[version='>=1.21.1,<1.26,!=1.25.0,!=1.25.1'] -> pysocks[version='>=1.5.6,<2.0,!=1.5.7']\n",
      "urllib3==1.25.8=py37_0 -> pysocks[version='>=1.5.6,<2.0,!=1.5.7']\n",
      "pysocks==1.7.1=py37_0\n",
      "\n",
      "Package python-dateutil conflicts for:\n",
      "rdkit -> pandas -> python-dateutil[version='>=2.7.3']\n",
      "python-dateutil\n",
      "pandas -> python-dateutil[version='>=2.7.3']\n",
      "\n",
      "Package libtiff conflicts for:\n",
      "pillow -> openjpeg[version='>=2.3.0,<3.0a0'] -> libtiff[version='>=4.0.9,<5.0a0']\n",
      "lcms2 -> libtiff[version='>=4.1.0,<5.0a0']\n",
      "pillow -> libtiff[version='>=4.1.0,<5.0a0']\n",
      "libtiff\n",
      "openjpeg -> libtiff[version='>=4.0.9,<5.0a0']\n",
      "rdkit -> pillow -> libtiff[version='>=4.1.0,<5.0a0']\n",
      "\n",
      "Package fontconfig conflicts for:\n",
      "fontconfig\n",
      "cairo -> fontconfig[version='>=2.13.1,<3.0a0']\n",
      "rdkit -> cairo[version='>=1.14.12,<2.0a0'] -> fontconfig[version='>=2.13.1,<3.0a0']\n",
      "\n",
      "Package conda-package-handling conflicts for:\n",
      "conda-package-handling==1.6.0=py37h7b6447c_0\n",
      "conda==4.8.2=py37_0 -> conda-package-handling[version='>=1.3.0']\n",
      "\n",
      "Package pyopenssl conflicts for:\n",
      "conda==4.8.2=py37_0 -> pyopenssl[version='>=16.2.0']\n",
      "pyopenssl==19.1.0=py37_0\n",
      "requests==2.22.0=py37_1 -> urllib3[version='>=1.21.1,<1.26,!=1.25.0,!=1.25.1'] -> pyopenssl[version='>=0.14']\n",
      "urllib3==1.25.8=py37_0 -> pyopenssl[version='>=0.14']\n",
      "\n",
      "Package pillow conflicts for:\n",
      "rdkit -> pillow\n",
      "pillow\n",
      "\n",
      "Package py-boost conflicts for:\n",
      "rdkit -> py-boost\n",
      "py-boost\n",
      "\n",
      "Package pycparser conflicts for:\n",
      "cffi==1.14.0=py37h2e261b9_0 -> pycparser\n",
      "cryptography==2.8=py37h1ba5d50_0 -> cffi[version='>=1.8'] -> pycparser\n",
      "pycparser==2.19=py37_0\n",
      "\n",
      "Package cffi conflicts for:\n",
      "pyopenssl==19.1.0=py37_0 -> cryptography[version='>=2.8'] -> cffi[version='>=1.8']\n",
      "cffi==1.14.0=py37h2e261b9_0\n",
      "urllib3==1.25.8=py37_0 -> cryptography[version='>=1.3.4'] -> cffi[version='>=1.8']\n",
      "cryptography==2.8=py37h1ba5d50_0 -> cffi[version='>=1.8']\n",
      "\n",
      "Package libuuid conflicts for:\n",
      "cairo -> fontconfig[version='>=2.13.1,<3.0a0'] -> libuuid[version='>=1.0.3,<2.0a0']\n",
      "libuuid\n",
      "\n",
      "Package asn1crypto conflicts for:\n",
      "asn1crypto==1.3.0=py37_0\n",
      "pyopenssl==19.1.0=py37_0 -> cryptography[version='>=2.8'] -> asn1crypto[version='>=0.21.0']\n",
      "cryptography==2.8=py37h1ba5d50_0 -> asn1crypto[version='>=0.21.0']\n",
      "urllib3==1.25.8=py37_0 -> cryptography[version='>=1.3.4'] -> asn1crypto[version='>=0.21.0']\n",
      "\n",
      "Package libxml2 conflicts for:\n",
      "libxml2\n",
      "cairo -> fontconfig[version='>=2.13.1,<3.0a0'] -> libxml2[version='>=2.9.10,<2.10.0a0']\n",
      "\n",
      "Package lcms2 conflicts for:\n",
      "rdkit -> pillow -> lcms2[version='>=2.12,<3.0a0']\n",
      "pillow -> lcms2[version='>=2.12,<3.0a0']\n",
      "lcms2\n",
      "\n",
      "Package mkl_fft conflicts for:\n",
      "rdkit -> numpy[version='>=1.12'] -> mkl_fft\n",
      "mkl_fft\n",
      "mkl_random -> numpy[version='>=1.16,<2.0a0'] -> mkl_fft\n",
      "pandas -> numpy[version='>=1.20.2,<2.0a0'] -> mkl_fft\n",
      "numpy -> mkl_fft\n",
      "\n",
      "Package libwebp-base conflicts for:\n",
      "lcms2 -> libtiff[version='>=4.1.0,<5.0a0'] -> libwebp-base\n",
      "pillow -> libtiff[version='>=4.1.0,<5.0a0'] -> libwebp-base\n",
      "openjpeg -> libtiff[version='>=4.0.9,<5.0a0'] -> libwebp-base\n",
      "libtiff -> libwebp-base\n",
      "libwebp-base\n",
      "\n",
      "Package tqdm conflicts for:\n",
      "conda-package-handling==1.6.0=py37h7b6447c_0 -> tqdm\n",
      "tqdm==4.42.1=py_0\n",
      "conda==4.8.2=py37_0 -> conda-package-handling[version='>=1.3.0'] -> tqdm\n",
      "\n",
      "Package pixman conflicts for:\n",
      "rdkit -> cairo[version='>=1.14.12,<2.0a0'] -> pixman[version='>=0.40.0,<1.0a0']\n",
      "cairo -> pixman[version='>=0.40.0,<1.0a0']\n",
      "pixman\n",
      "\n",
      "Package olefile conflicts for:\n",
      "olefile\n",
      "rdkit -> pillow -> olefile\n",
      "pillow -> olefile\n",
      "\n",
      "Package setuptools conflicts for:\n",
      "conda==4.8.2=py37_0 -> setuptools[version='>=31.0.1']\n",
      "wheel==0.34.2=py37_0 -> setuptools\n",
      "pip==20.0.2=py37_1 -> setuptools\n",
      "setuptools==45.2.0=py37_0\n",
      "\n",
      "Package openjpeg conflicts for:\n",
      "pillow -> openjpeg[version='>=2.3.0,<3.0a0']\n",
      "rdkit -> pillow -> openjpeg[version='>=2.3.0,<3.0a0']\n",
      "openjpeg\n",
      "\n",
      "Package pandas conflicts for:\n",
      "rdkit -> pandas\n",
      "pandas\n",
      "\n",
      "Package yaml conflicts for:\n",
      "ruamel_yaml==0.15.87=py37h7b6447c_0 -> yaml[version='>=0.1.7,<0.2.0a0']\n",
      "yaml==0.1.7=had09818_2\n",
      "conda==4.8.2=py37_0 -> ruamel_yaml[version='>=0.11.14,<0.16'] -> yaml[version='>=0.1.7,<0.2.0a0']\n",
      "\n",
      "Package bzip2 conflicts for:\n",
      "bzip2\n",
      "rdkit -> libboost[version='>=1.73.0,<1.74.0a0'] -> bzip2[version='>=1.0.8,<2.0a0']\n",
      "py-boost -> libboost[version='>=1.73.0,<1.73.1.0a0',build=h3ff78a5_11] -> bzip2[version='>=1.0.8,<2.0a0']\n",
      "libboost -> bzip2[version='>=1.0.8,<2.0a0']\n",
      "\n",
      "Package requests conflicts for:\n",
      "conda==4.8.2=py37_0 -> requests[version='>=2.18.4,<3']\n",
      "requests==2.22.0=py37_1\n",
      "\n",
      "Package ruamel_yaml conflicts for:\n",
      "conda==4.8.2=py37_0 -> ruamel_yaml[version='>=0.11.14,<0.16']\n",
      "ruamel_yaml==0.15.87=py37h7b6447c_0\n",
      "\n",
      "Collecting package metadata (current_repodata.json): - \b\b\\ \b\b| \b\b/ \b\b- \b\b\\ \b\b| \b\b/ \b\b- \b\b\\ \b\bdone\n",
      "Solving environment: / \b\b- \b\b\\ \b\b| \b\b/ \b\b- \b\b\\ \b\b| \b\b/ \b\b- \b\b\\ \b\bdone\n",
      "\n",
      "# All requested packages already installed.\n",
      "\n"
     ]
    }
   ],
   "source": [
    "! wget https://repo.anaconda.com/miniconda/Miniconda3-py37_4.8.2-Linux-x86_64.sh\n",
    "! chmod +x Miniconda3-py37_4.8.2-Linux-x86_64.sh\n",
    "! bash ./Miniconda3-py37_4.8.2-Linux-x86_64.sh -b -f -p /usr/local\n",
    "! conda install -c rdkit rdkit -y\n",
    "import sys\n",
    "sys.path.append('/usr/local/lib/python3.7/site-packages/')"
   ]
  },
  {
   "cell_type": "markdown",
   "metadata": {
    "id": "QmxXXFa4wTNG"
   },
   "source": [
    "## **Load bioactivity data**"
   ]
  },
  {
   "cell_type": "code",
   "execution_count": null,
   "metadata": {
    "id": "Fpu5C7HlwV9s"
   },
   "outputs": [],
   "source": [
    "import pandas as pd"
   ]
  },
  {
   "cell_type": "code",
   "execution_count": null,
   "metadata": {
    "colab": {
     "base_uri": "https://localhost:8080/",
     "height": 417
    },
    "executionInfo": {
     "elapsed": 678,
     "status": "ok",
     "timestamp": 1625852323799,
     "user": {
      "displayName": "Archi Shukla",
      "photoUrl": "https://lh3.googleusercontent.com/a-/AOh14GgYGQd-M4aUvMbhx1us6uPO7GoNEGEAYQzmE5BsYeQ=s64",
      "userId": "00468706026079091027"
     },
     "user_tz": -330
    },
    "id": "GCcE8J5XwjtB",
    "outputId": "458df6dd-b8f9-4bf3-a0a0-59c8d12650e0"
   },
   "outputs": [
    {
     "data": {
      "text/html": [
       "<div>\n",
       "<style scoped>\n",
       "    .dataframe tbody tr th:only-of-type {\n",
       "        vertical-align: middle;\n",
       "    }\n",
       "\n",
       "    .dataframe tbody tr th {\n",
       "        vertical-align: top;\n",
       "    }\n",
       "\n",
       "    .dataframe thead th {\n",
       "        text-align: right;\n",
       "    }\n",
       "</style>\n",
       "<table border=\"1\" class=\"dataframe\">\n",
       "  <thead>\n",
       "    <tr style=\"text-align: right;\">\n",
       "      <th></th>\n",
       "      <th>molecule_chembl_id</th>\n",
       "      <th>canonical_smiles</th>\n",
       "      <th>standard_value</th>\n",
       "      <th>class</th>\n",
       "    </tr>\n",
       "  </thead>\n",
       "  <tbody>\n",
       "    <tr>\n",
       "      <th>0</th>\n",
       "      <td>CHEMBL260397</td>\n",
       "      <td>Oc1nc2ccccc2n1C1CCN(Cc2ccc(-c3nc4ccccc4nc3-c3c...</td>\n",
       "      <td>50000.00</td>\n",
       "      <td>inactive</td>\n",
       "    </tr>\n",
       "    <tr>\n",
       "      <th>1</th>\n",
       "      <td>CHEMBL258844</td>\n",
       "      <td>O=c1[nH]c2ccccc2n1C1CCN(Cc2ccc(-c3nc4cc5[nH]cn...</td>\n",
       "      <td>2200.00</td>\n",
       "      <td>intermediate</td>\n",
       "    </tr>\n",
       "    <tr>\n",
       "      <th>2</th>\n",
       "      <td>CHEMBL178397</td>\n",
       "      <td>Cc1nc(-c2ccc(CN3CCC(n4c(=O)[nH]c5ccccc54)CC3)c...</td>\n",
       "      <td>20000.00</td>\n",
       "      <td>inactive</td>\n",
       "    </tr>\n",
       "    <tr>\n",
       "      <th>3</th>\n",
       "      <td>CHEMBL178468</td>\n",
       "      <td>CC(C)Cc1nc(-c2ccccc2)c(-c2ccc(CN3CCC(n4c(O)nc5...</td>\n",
       "      <td>20000.00</td>\n",
       "      <td>inactive</td>\n",
       "    </tr>\n",
       "    <tr>\n",
       "      <th>4</th>\n",
       "      <td>CHEMBL359864</td>\n",
       "      <td>Oc1nc2ccccc2n1C1CCN(Cc2ccc(-c3nc4ccccc4cc3-c3c...</td>\n",
       "      <td>50000.00</td>\n",
       "      <td>inactive</td>\n",
       "    </tr>\n",
       "    <tr>\n",
       "      <th>...</th>\n",
       "      <td>...</td>\n",
       "      <td>...</td>\n",
       "      <td>...</td>\n",
       "      <td>...</td>\n",
       "    </tr>\n",
       "    <tr>\n",
       "      <th>3459</th>\n",
       "      <td>CHEMBL1077375</td>\n",
       "      <td>N=C(N)NCCC[C@@H](NC(=O)[C@@H](CCCNC(=N)N)NC(=O...</td>\n",
       "      <td>12.00</td>\n",
       "      <td>active</td>\n",
       "    </tr>\n",
       "    <tr>\n",
       "      <th>3460</th>\n",
       "      <td>CHEMBL1077376</td>\n",
       "      <td>N=C(N)NCCC[C@@H](NC(=O)CCCCCNC(=O)[C@@H](CCCCN...</td>\n",
       "      <td>42.00</td>\n",
       "      <td>active</td>\n",
       "    </tr>\n",
       "    <tr>\n",
       "      <th>3461</th>\n",
       "      <td>CHEMBL2023714</td>\n",
       "      <td>N=C(N)NCCC[C@@H](NC(=O)[C@@H](CCCNC(=N)N)NC(=O...</td>\n",
       "      <td>72.44</td>\n",
       "      <td>active</td>\n",
       "    </tr>\n",
       "    <tr>\n",
       "      <th>3462</th>\n",
       "      <td>CHEMBL2023842</td>\n",
       "      <td>N=C(N)NCCC[C@@H](NC(=O)[C@@H](CCCNC(=N)N)NC(=O...</td>\n",
       "      <td>9120.11</td>\n",
       "      <td>intermediate</td>\n",
       "    </tr>\n",
       "    <tr>\n",
       "      <th>3463</th>\n",
       "      <td>CHEMBL119385</td>\n",
       "      <td>O=c1ncn2nc(Sc3ccc(F)cc3F)ccc2c1-c1c(Cl)cccc1Cl</td>\n",
       "      <td>5000.00</td>\n",
       "      <td>intermediate</td>\n",
       "    </tr>\n",
       "  </tbody>\n",
       "</table>\n",
       "<p>3464 rows × 4 columns</p>\n",
       "</div>"
      ],
      "text/plain": [
       "     molecule_chembl_id  ...         class\n",
       "0          CHEMBL260397  ...      inactive\n",
       "1          CHEMBL258844  ...  intermediate\n",
       "2          CHEMBL178397  ...      inactive\n",
       "3          CHEMBL178468  ...      inactive\n",
       "4          CHEMBL359864  ...      inactive\n",
       "...                 ...  ...           ...\n",
       "3459      CHEMBL1077375  ...        active\n",
       "3460      CHEMBL1077376  ...        active\n",
       "3461      CHEMBL2023714  ...        active\n",
       "3462      CHEMBL2023842  ...  intermediate\n",
       "3463       CHEMBL119385  ...  intermediate\n",
       "\n",
       "[3464 rows x 4 columns]"
      ]
     },
     "execution_count": 5,
     "metadata": {
      "tags": []
     },
     "output_type": "execute_result"
    }
   ],
   "source": [
    "df = pd.read_csv('akt_03_bioactivity_data_curated.csv')\n",
    "df"
   ]
  },
  {
   "cell_type": "code",
   "execution_count": null,
   "metadata": {
    "id": "7AMm19NW0bJR"
   },
   "outputs": [],
   "source": [
    "df_no_smiles = df.drop(columns='canonical_smiles')"
   ]
  },
  {
   "cell_type": "code",
   "execution_count": null,
   "metadata": {
    "id": "aymiQsfdr5sY"
   },
   "outputs": [],
   "source": [
    "smiles = []\n",
    "\n",
    "for i in df.canonical_smiles.tolist():\n",
    "  cpd = str(i).split('.')\n",
    "  cpd_longest = max(cpd, key = len)\n",
    "  smiles.append(cpd_longest)\n",
    "\n",
    "smiles = pd.Series(smiles, name = 'canonical_smiles')"
   ]
  },
  {
   "cell_type": "code",
   "execution_count": null,
   "metadata": {
    "colab": {
     "base_uri": "https://localhost:8080/",
     "height": 417
    },
    "executionInfo": {
     "elapsed": 541,
     "status": "ok",
     "timestamp": 1625852344595,
     "user": {
      "displayName": "Archi Shukla",
      "photoUrl": "https://lh3.googleusercontent.com/a-/AOh14GgYGQd-M4aUvMbhx1us6uPO7GoNEGEAYQzmE5BsYeQ=s64",
      "userId": "00468706026079091027"
     },
     "user_tz": -330
    },
    "id": "l7a8qW_U85ZK",
    "outputId": "fc8e273a-9688-4c3f-c9b2-c57daac1afab"
   },
   "outputs": [
    {
     "data": {
      "text/html": [
       "<div>\n",
       "<style scoped>\n",
       "    .dataframe tbody tr th:only-of-type {\n",
       "        vertical-align: middle;\n",
       "    }\n",
       "\n",
       "    .dataframe tbody tr th {\n",
       "        vertical-align: top;\n",
       "    }\n",
       "\n",
       "    .dataframe thead th {\n",
       "        text-align: right;\n",
       "    }\n",
       "</style>\n",
       "<table border=\"1\" class=\"dataframe\">\n",
       "  <thead>\n",
       "    <tr style=\"text-align: right;\">\n",
       "      <th></th>\n",
       "      <th>molecule_chembl_id</th>\n",
       "      <th>standard_value</th>\n",
       "      <th>class</th>\n",
       "      <th>canonical_smiles</th>\n",
       "    </tr>\n",
       "  </thead>\n",
       "  <tbody>\n",
       "    <tr>\n",
       "      <th>0</th>\n",
       "      <td>CHEMBL260397</td>\n",
       "      <td>50000.00</td>\n",
       "      <td>inactive</td>\n",
       "      <td>Oc1nc2ccccc2n1C1CCN(Cc2ccc(-c3nc4ccccc4nc3-c3c...</td>\n",
       "    </tr>\n",
       "    <tr>\n",
       "      <th>1</th>\n",
       "      <td>CHEMBL258844</td>\n",
       "      <td>2200.00</td>\n",
       "      <td>intermediate</td>\n",
       "      <td>O=c1[nH]c2ccccc2n1C1CCN(Cc2ccc(-c3nc4cc5[nH]cn...</td>\n",
       "    </tr>\n",
       "    <tr>\n",
       "      <th>2</th>\n",
       "      <td>CHEMBL178397</td>\n",
       "      <td>20000.00</td>\n",
       "      <td>inactive</td>\n",
       "      <td>Cc1nc(-c2ccc(CN3CCC(n4c(=O)[nH]c5ccccc54)CC3)c...</td>\n",
       "    </tr>\n",
       "    <tr>\n",
       "      <th>3</th>\n",
       "      <td>CHEMBL178468</td>\n",
       "      <td>20000.00</td>\n",
       "      <td>inactive</td>\n",
       "      <td>CC(C)Cc1nc(-c2ccccc2)c(-c2ccc(CN3CCC(n4c(O)nc5...</td>\n",
       "    </tr>\n",
       "    <tr>\n",
       "      <th>4</th>\n",
       "      <td>CHEMBL359864</td>\n",
       "      <td>50000.00</td>\n",
       "      <td>inactive</td>\n",
       "      <td>Oc1nc2ccccc2n1C1CCN(Cc2ccc(-c3nc4ccccc4cc3-c3c...</td>\n",
       "    </tr>\n",
       "    <tr>\n",
       "      <th>...</th>\n",
       "      <td>...</td>\n",
       "      <td>...</td>\n",
       "      <td>...</td>\n",
       "      <td>...</td>\n",
       "    </tr>\n",
       "    <tr>\n",
       "      <th>3459</th>\n",
       "      <td>CHEMBL1077375</td>\n",
       "      <td>12.00</td>\n",
       "      <td>active</td>\n",
       "      <td>N=C(N)NCCC[C@@H](NC(=O)[C@@H](CCCNC(=N)N)NC(=O...</td>\n",
       "    </tr>\n",
       "    <tr>\n",
       "      <th>3460</th>\n",
       "      <td>CHEMBL1077376</td>\n",
       "      <td>42.00</td>\n",
       "      <td>active</td>\n",
       "      <td>N=C(N)NCCC[C@@H](NC(=O)CCCCCNC(=O)[C@@H](CCCCN...</td>\n",
       "    </tr>\n",
       "    <tr>\n",
       "      <th>3461</th>\n",
       "      <td>CHEMBL2023714</td>\n",
       "      <td>72.44</td>\n",
       "      <td>active</td>\n",
       "      <td>N=C(N)NCCC[C@@H](NC(=O)[C@@H](CCCNC(=N)N)NC(=O...</td>\n",
       "    </tr>\n",
       "    <tr>\n",
       "      <th>3462</th>\n",
       "      <td>CHEMBL2023842</td>\n",
       "      <td>9120.11</td>\n",
       "      <td>intermediate</td>\n",
       "      <td>N=C(N)NCCC[C@@H](NC(=O)[C@@H](CCCNC(=N)N)NC(=O...</td>\n",
       "    </tr>\n",
       "    <tr>\n",
       "      <th>3463</th>\n",
       "      <td>CHEMBL119385</td>\n",
       "      <td>5000.00</td>\n",
       "      <td>intermediate</td>\n",
       "      <td>O=c1ncn2nc(Sc3ccc(F)cc3F)ccc2c1-c1c(Cl)cccc1Cl</td>\n",
       "    </tr>\n",
       "  </tbody>\n",
       "</table>\n",
       "<p>3464 rows × 4 columns</p>\n",
       "</div>"
      ],
      "text/plain": [
       "     molecule_chembl_id  ...                                   canonical_smiles\n",
       "0          CHEMBL260397  ...  Oc1nc2ccccc2n1C1CCN(Cc2ccc(-c3nc4ccccc4nc3-c3c...\n",
       "1          CHEMBL258844  ...  O=c1[nH]c2ccccc2n1C1CCN(Cc2ccc(-c3nc4cc5[nH]cn...\n",
       "2          CHEMBL178397  ...  Cc1nc(-c2ccc(CN3CCC(n4c(=O)[nH]c5ccccc54)CC3)c...\n",
       "3          CHEMBL178468  ...  CC(C)Cc1nc(-c2ccccc2)c(-c2ccc(CN3CCC(n4c(O)nc5...\n",
       "4          CHEMBL359864  ...  Oc1nc2ccccc2n1C1CCN(Cc2ccc(-c3nc4ccccc4cc3-c3c...\n",
       "...                 ...  ...                                                ...\n",
       "3459      CHEMBL1077375  ...  N=C(N)NCCC[C@@H](NC(=O)[C@@H](CCCNC(=N)N)NC(=O...\n",
       "3460      CHEMBL1077376  ...  N=C(N)NCCC[C@@H](NC(=O)CCCCCNC(=O)[C@@H](CCCCN...\n",
       "3461      CHEMBL2023714  ...  N=C(N)NCCC[C@@H](NC(=O)[C@@H](CCCNC(=N)N)NC(=O...\n",
       "3462      CHEMBL2023842  ...  N=C(N)NCCC[C@@H](NC(=O)[C@@H](CCCNC(=N)N)NC(=O...\n",
       "3463       CHEMBL119385  ...     O=c1ncn2nc(Sc3ccc(F)cc3F)ccc2c1-c1c(Cl)cccc1Cl\n",
       "\n",
       "[3464 rows x 4 columns]"
      ]
     },
     "execution_count": 8,
     "metadata": {
      "tags": []
     },
     "output_type": "execute_result"
    }
   ],
   "source": [
    "df_clean_smiles = pd.concat([df_no_smiles,smiles], axis=1)\n",
    "df_clean_smiles"
   ]
  },
  {
   "cell_type": "markdown",
   "metadata": {
    "id": "YzN_S4Quro5S"
   },
   "source": [
    "## **Calculate Lipinski descriptors**\n",
    "Christopher Lipinski, a scientist at Pfizer, came up with a set of rule-of-thumb for evaluating the **druglikeness** of compounds. Such druglikeness is based on the Absorption, Distribution, Metabolism and Excretion (ADME) that is also known as the pharmacokinetic profile. Lipinski analyzed all orally active FDA-approved drugs in the formulation of what is to be known as the **Rule-of-Five** or **Lipinski's Rule**.\n",
    "\n",
    "The Lipinski's Rule stated the following:\n",
    "* Molecular weight < 500 Dalton\n",
    "* Octanol-water partition coefficient (LogP) < 5\n",
    "* Hydrogen bond donors < 5\n",
    "* Hydrogen bond acceptors < 10 "
   ]
  },
  {
   "cell_type": "markdown",
   "metadata": {
    "id": "9qn_eQcnxY7C"
   },
   "source": [
    "### **Import libraries**"
   ]
  },
  {
   "cell_type": "code",
   "execution_count": null,
   "metadata": {
    "id": "CgBjIdT-rnRU"
   },
   "outputs": [],
   "source": [
    "import numpy as np\n",
    "from rdkit import Chem\n",
    "from rdkit.Chem import Descriptors, Lipinski"
   ]
  },
  {
   "cell_type": "markdown",
   "metadata": {
    "id": "JsgTV-ByxdMa"
   },
   "source": [
    "### **Calculate descriptors**"
   ]
  },
  {
   "cell_type": "code",
   "execution_count": null,
   "metadata": {
    "id": "bCXEY7a9ugO_"
   },
   "outputs": [],
   "source": [
    "# Inspired by: https://codeocean.com/explore/capsules?query=tag:data-curation\n",
    "\n",
    "def lipinski(smiles, verbose=False):\n",
    "\n",
    "    moldata= []\n",
    "    for elem in smiles:\n",
    "        mol=Chem.MolFromSmiles(elem) \n",
    "        moldata.append(mol)\n",
    "       \n",
    "    baseData= np.arange(1,1)\n",
    "    i=0  \n",
    "    for mol in moldata:        \n",
    "       \n",
    "        desc_MolWt = Descriptors.MolWt(mol)\n",
    "        desc_MolLogP = Descriptors.MolLogP(mol)\n",
    "        desc_NumHDonors = Lipinski.NumHDonors(mol)\n",
    "        desc_NumHAcceptors = Lipinski.NumHAcceptors(mol)\n",
    "           \n",
    "        row = np.array([desc_MolWt,\n",
    "                        desc_MolLogP,\n",
    "                        desc_NumHDonors,\n",
    "                        desc_NumHAcceptors])   \n",
    "    \n",
    "        if(i==0):\n",
    "            baseData=row\n",
    "        else:\n",
    "            baseData=np.vstack([baseData, row])\n",
    "        i=i+1      \n",
    "    \n",
    "    columnNames=[\"MW\",\"LogP\",\"NumHDonors\",\"NumHAcceptors\"]   \n",
    "    descriptors = pd.DataFrame(data=baseData,columns=columnNames)\n",
    "    \n",
    "    return descriptors"
   ]
  },
  {
   "cell_type": "code",
   "execution_count": null,
   "metadata": {
    "colab": {
     "base_uri": "https://localhost:8080/",
     "height": 417
    },
    "executionInfo": {
     "elapsed": 2932,
     "status": "ok",
     "timestamp": 1625852358996,
     "user": {
      "displayName": "Archi Shukla",
      "photoUrl": "https://lh3.googleusercontent.com/a-/AOh14GgYGQd-M4aUvMbhx1us6uPO7GoNEGEAYQzmE5BsYeQ=s64",
      "userId": "00468706026079091027"
     },
     "user_tz": -330
    },
    "id": "ThFIFw8IukMY",
    "outputId": "727775b8-bd8c-470d-e259-ce2c13e8f216"
   },
   "outputs": [
    {
     "data": {
      "text/html": [
       "<div>\n",
       "<style scoped>\n",
       "    .dataframe tbody tr th:only-of-type {\n",
       "        vertical-align: middle;\n",
       "    }\n",
       "\n",
       "    .dataframe tbody tr th {\n",
       "        vertical-align: top;\n",
       "    }\n",
       "\n",
       "    .dataframe thead th {\n",
       "        text-align: right;\n",
       "    }\n",
       "</style>\n",
       "<table border=\"1\" class=\"dataframe\">\n",
       "  <thead>\n",
       "    <tr style=\"text-align: right;\">\n",
       "      <th></th>\n",
       "      <th>MW</th>\n",
       "      <th>LogP</th>\n",
       "      <th>NumHDonors</th>\n",
       "      <th>NumHAcceptors</th>\n",
       "    </tr>\n",
       "  </thead>\n",
       "  <tbody>\n",
       "    <tr>\n",
       "      <th>0</th>\n",
       "      <td>511.629</td>\n",
       "      <td>6.85620</td>\n",
       "      <td>1.0</td>\n",
       "      <td>6.0</td>\n",
       "    </tr>\n",
       "    <tr>\n",
       "      <th>1</th>\n",
       "      <td>551.654</td>\n",
       "      <td>6.32020</td>\n",
       "      <td>2.0</td>\n",
       "      <td>6.0</td>\n",
       "    </tr>\n",
       "    <tr>\n",
       "      <th>2</th>\n",
       "      <td>491.595</td>\n",
       "      <td>4.89242</td>\n",
       "      <td>2.0</td>\n",
       "      <td>5.0</td>\n",
       "    </tr>\n",
       "    <tr>\n",
       "      <th>3</th>\n",
       "      <td>533.676</td>\n",
       "      <td>6.60710</td>\n",
       "      <td>2.0</td>\n",
       "      <td>7.0</td>\n",
       "    </tr>\n",
       "    <tr>\n",
       "      <th>4</th>\n",
       "      <td>510.641</td>\n",
       "      <td>7.46120</td>\n",
       "      <td>1.0</td>\n",
       "      <td>5.0</td>\n",
       "    </tr>\n",
       "    <tr>\n",
       "      <th>...</th>\n",
       "      <td>...</td>\n",
       "      <td>...</td>\n",
       "      <td>...</td>\n",
       "      <td>...</td>\n",
       "    </tr>\n",
       "    <tr>\n",
       "      <th>3459</th>\n",
       "      <td>1511.886</td>\n",
       "      <td>-5.65838</td>\n",
       "      <td>30.0</td>\n",
       "      <td>21.0</td>\n",
       "    </tr>\n",
       "    <tr>\n",
       "      <th>3460</th>\n",
       "      <td>1640.061</td>\n",
       "      <td>-6.04458</td>\n",
       "      <td>32.0</td>\n",
       "      <td>23.0</td>\n",
       "    </tr>\n",
       "    <tr>\n",
       "      <th>3461</th>\n",
       "      <td>1301.605</td>\n",
       "      <td>-6.36318</td>\n",
       "      <td>27.0</td>\n",
       "      <td>17.0</td>\n",
       "    </tr>\n",
       "    <tr>\n",
       "      <th>3462</th>\n",
       "      <td>986.303</td>\n",
       "      <td>0.54364</td>\n",
       "      <td>12.0</td>\n",
       "      <td>12.0</td>\n",
       "    </tr>\n",
       "    <tr>\n",
       "      <th>3463</th>\n",
       "      <td>436.270</td>\n",
       "      <td>5.49270</td>\n",
       "      <td>0.0</td>\n",
       "      <td>5.0</td>\n",
       "    </tr>\n",
       "  </tbody>\n",
       "</table>\n",
       "<p>3464 rows × 4 columns</p>\n",
       "</div>"
      ],
      "text/plain": [
       "            MW     LogP  NumHDonors  NumHAcceptors\n",
       "0      511.629  6.85620         1.0            6.0\n",
       "1      551.654  6.32020         2.0            6.0\n",
       "2      491.595  4.89242         2.0            5.0\n",
       "3      533.676  6.60710         2.0            7.0\n",
       "4      510.641  7.46120         1.0            5.0\n",
       "...        ...      ...         ...            ...\n",
       "3459  1511.886 -5.65838        30.0           21.0\n",
       "3460  1640.061 -6.04458        32.0           23.0\n",
       "3461  1301.605 -6.36318        27.0           17.0\n",
       "3462   986.303  0.54364        12.0           12.0\n",
       "3463   436.270  5.49270         0.0            5.0\n",
       "\n",
       "[3464 rows x 4 columns]"
      ]
     },
     "execution_count": 11,
     "metadata": {
      "tags": []
     },
     "output_type": "execute_result"
    }
   ],
   "source": [
    "df_lipinski = lipinski(df_clean_smiles.canonical_smiles)\n",
    "df_lipinski"
   ]
  },
  {
   "cell_type": "markdown",
   "metadata": {
    "id": "gUMlPfFrxicj"
   },
   "source": [
    "### **Combine DataFrames**\n",
    "\n",
    "Let's take a look at the 2 DataFrames that will be combined."
   ]
  },
  {
   "cell_type": "code",
   "execution_count": null,
   "metadata": {
    "colab": {
     "base_uri": "https://localhost:8080/",
     "height": 417
    },
    "executionInfo": {
     "elapsed": 516,
     "status": "ok",
     "timestamp": 1625852363574,
     "user": {
      "displayName": "Archi Shukla",
      "photoUrl": "https://lh3.googleusercontent.com/a-/AOh14GgYGQd-M4aUvMbhx1us6uPO7GoNEGEAYQzmE5BsYeQ=s64",
      "userId": "00468706026079091027"
     },
     "user_tz": -330
    },
    "id": "DaezyM5vwp9n",
    "outputId": "fabcc37d-417e-4c78-f0c9-63f2f365b7ea"
   },
   "outputs": [
    {
     "data": {
      "text/html": [
       "<div>\n",
       "<style scoped>\n",
       "    .dataframe tbody tr th:only-of-type {\n",
       "        vertical-align: middle;\n",
       "    }\n",
       "\n",
       "    .dataframe tbody tr th {\n",
       "        vertical-align: top;\n",
       "    }\n",
       "\n",
       "    .dataframe thead th {\n",
       "        text-align: right;\n",
       "    }\n",
       "</style>\n",
       "<table border=\"1\" class=\"dataframe\">\n",
       "  <thead>\n",
       "    <tr style=\"text-align: right;\">\n",
       "      <th></th>\n",
       "      <th>MW</th>\n",
       "      <th>LogP</th>\n",
       "      <th>NumHDonors</th>\n",
       "      <th>NumHAcceptors</th>\n",
       "    </tr>\n",
       "  </thead>\n",
       "  <tbody>\n",
       "    <tr>\n",
       "      <th>0</th>\n",
       "      <td>511.629</td>\n",
       "      <td>6.85620</td>\n",
       "      <td>1.0</td>\n",
       "      <td>6.0</td>\n",
       "    </tr>\n",
       "    <tr>\n",
       "      <th>1</th>\n",
       "      <td>551.654</td>\n",
       "      <td>6.32020</td>\n",
       "      <td>2.0</td>\n",
       "      <td>6.0</td>\n",
       "    </tr>\n",
       "    <tr>\n",
       "      <th>2</th>\n",
       "      <td>491.595</td>\n",
       "      <td>4.89242</td>\n",
       "      <td>2.0</td>\n",
       "      <td>5.0</td>\n",
       "    </tr>\n",
       "    <tr>\n",
       "      <th>3</th>\n",
       "      <td>533.676</td>\n",
       "      <td>6.60710</td>\n",
       "      <td>2.0</td>\n",
       "      <td>7.0</td>\n",
       "    </tr>\n",
       "    <tr>\n",
       "      <th>4</th>\n",
       "      <td>510.641</td>\n",
       "      <td>7.46120</td>\n",
       "      <td>1.0</td>\n",
       "      <td>5.0</td>\n",
       "    </tr>\n",
       "    <tr>\n",
       "      <th>...</th>\n",
       "      <td>...</td>\n",
       "      <td>...</td>\n",
       "      <td>...</td>\n",
       "      <td>...</td>\n",
       "    </tr>\n",
       "    <tr>\n",
       "      <th>3459</th>\n",
       "      <td>1511.886</td>\n",
       "      <td>-5.65838</td>\n",
       "      <td>30.0</td>\n",
       "      <td>21.0</td>\n",
       "    </tr>\n",
       "    <tr>\n",
       "      <th>3460</th>\n",
       "      <td>1640.061</td>\n",
       "      <td>-6.04458</td>\n",
       "      <td>32.0</td>\n",
       "      <td>23.0</td>\n",
       "    </tr>\n",
       "    <tr>\n",
       "      <th>3461</th>\n",
       "      <td>1301.605</td>\n",
       "      <td>-6.36318</td>\n",
       "      <td>27.0</td>\n",
       "      <td>17.0</td>\n",
       "    </tr>\n",
       "    <tr>\n",
       "      <th>3462</th>\n",
       "      <td>986.303</td>\n",
       "      <td>0.54364</td>\n",
       "      <td>12.0</td>\n",
       "      <td>12.0</td>\n",
       "    </tr>\n",
       "    <tr>\n",
       "      <th>3463</th>\n",
       "      <td>436.270</td>\n",
       "      <td>5.49270</td>\n",
       "      <td>0.0</td>\n",
       "      <td>5.0</td>\n",
       "    </tr>\n",
       "  </tbody>\n",
       "</table>\n",
       "<p>3464 rows × 4 columns</p>\n",
       "</div>"
      ],
      "text/plain": [
       "            MW     LogP  NumHDonors  NumHAcceptors\n",
       "0      511.629  6.85620         1.0            6.0\n",
       "1      551.654  6.32020         2.0            6.0\n",
       "2      491.595  4.89242         2.0            5.0\n",
       "3      533.676  6.60710         2.0            7.0\n",
       "4      510.641  7.46120         1.0            5.0\n",
       "...        ...      ...         ...            ...\n",
       "3459  1511.886 -5.65838        30.0           21.0\n",
       "3460  1640.061 -6.04458        32.0           23.0\n",
       "3461  1301.605 -6.36318        27.0           17.0\n",
       "3462   986.303  0.54364        12.0           12.0\n",
       "3463   436.270  5.49270         0.0            5.0\n",
       "\n",
       "[3464 rows x 4 columns]"
      ]
     },
     "execution_count": 12,
     "metadata": {
      "tags": []
     },
     "output_type": "execute_result"
    }
   ],
   "source": [
    "df_lipinski"
   ]
  },
  {
   "cell_type": "code",
   "execution_count": null,
   "metadata": {
    "colab": {
     "base_uri": "https://localhost:8080/",
     "height": 417
    },
    "executionInfo": {
     "elapsed": 18,
     "status": "ok",
     "timestamp": 1625852366860,
     "user": {
      "displayName": "Archi Shukla",
      "photoUrl": "https://lh3.googleusercontent.com/a-/AOh14GgYGQd-M4aUvMbhx1us6uPO7GoNEGEAYQzmE5BsYeQ=s64",
      "userId": "00468706026079091027"
     },
     "user_tz": -330
    },
    "id": "9-ChzM8_wuq_",
    "outputId": "981f787c-5434-4f45-d4cc-ef5f3269e832"
   },
   "outputs": [
    {
     "data": {
      "text/html": [
       "<div>\n",
       "<style scoped>\n",
       "    .dataframe tbody tr th:only-of-type {\n",
       "        vertical-align: middle;\n",
       "    }\n",
       "\n",
       "    .dataframe tbody tr th {\n",
       "        vertical-align: top;\n",
       "    }\n",
       "\n",
       "    .dataframe thead th {\n",
       "        text-align: right;\n",
       "    }\n",
       "</style>\n",
       "<table border=\"1\" class=\"dataframe\">\n",
       "  <thead>\n",
       "    <tr style=\"text-align: right;\">\n",
       "      <th></th>\n",
       "      <th>molecule_chembl_id</th>\n",
       "      <th>canonical_smiles</th>\n",
       "      <th>standard_value</th>\n",
       "      <th>class</th>\n",
       "    </tr>\n",
       "  </thead>\n",
       "  <tbody>\n",
       "    <tr>\n",
       "      <th>0</th>\n",
       "      <td>CHEMBL260397</td>\n",
       "      <td>Oc1nc2ccccc2n1C1CCN(Cc2ccc(-c3nc4ccccc4nc3-c3c...</td>\n",
       "      <td>50000.00</td>\n",
       "      <td>inactive</td>\n",
       "    </tr>\n",
       "    <tr>\n",
       "      <th>1</th>\n",
       "      <td>CHEMBL258844</td>\n",
       "      <td>O=c1[nH]c2ccccc2n1C1CCN(Cc2ccc(-c3nc4cc5[nH]cn...</td>\n",
       "      <td>2200.00</td>\n",
       "      <td>intermediate</td>\n",
       "    </tr>\n",
       "    <tr>\n",
       "      <th>2</th>\n",
       "      <td>CHEMBL178397</td>\n",
       "      <td>Cc1nc(-c2ccc(CN3CCC(n4c(=O)[nH]c5ccccc54)CC3)c...</td>\n",
       "      <td>20000.00</td>\n",
       "      <td>inactive</td>\n",
       "    </tr>\n",
       "    <tr>\n",
       "      <th>3</th>\n",
       "      <td>CHEMBL178468</td>\n",
       "      <td>CC(C)Cc1nc(-c2ccccc2)c(-c2ccc(CN3CCC(n4c(O)nc5...</td>\n",
       "      <td>20000.00</td>\n",
       "      <td>inactive</td>\n",
       "    </tr>\n",
       "    <tr>\n",
       "      <th>4</th>\n",
       "      <td>CHEMBL359864</td>\n",
       "      <td>Oc1nc2ccccc2n1C1CCN(Cc2ccc(-c3nc4ccccc4cc3-c3c...</td>\n",
       "      <td>50000.00</td>\n",
       "      <td>inactive</td>\n",
       "    </tr>\n",
       "    <tr>\n",
       "      <th>...</th>\n",
       "      <td>...</td>\n",
       "      <td>...</td>\n",
       "      <td>...</td>\n",
       "      <td>...</td>\n",
       "    </tr>\n",
       "    <tr>\n",
       "      <th>3459</th>\n",
       "      <td>CHEMBL1077375</td>\n",
       "      <td>N=C(N)NCCC[C@@H](NC(=O)[C@@H](CCCNC(=N)N)NC(=O...</td>\n",
       "      <td>12.00</td>\n",
       "      <td>active</td>\n",
       "    </tr>\n",
       "    <tr>\n",
       "      <th>3460</th>\n",
       "      <td>CHEMBL1077376</td>\n",
       "      <td>N=C(N)NCCC[C@@H](NC(=O)CCCCCNC(=O)[C@@H](CCCCN...</td>\n",
       "      <td>42.00</td>\n",
       "      <td>active</td>\n",
       "    </tr>\n",
       "    <tr>\n",
       "      <th>3461</th>\n",
       "      <td>CHEMBL2023714</td>\n",
       "      <td>N=C(N)NCCC[C@@H](NC(=O)[C@@H](CCCNC(=N)N)NC(=O...</td>\n",
       "      <td>72.44</td>\n",
       "      <td>active</td>\n",
       "    </tr>\n",
       "    <tr>\n",
       "      <th>3462</th>\n",
       "      <td>CHEMBL2023842</td>\n",
       "      <td>N=C(N)NCCC[C@@H](NC(=O)[C@@H](CCCNC(=N)N)NC(=O...</td>\n",
       "      <td>9120.11</td>\n",
       "      <td>intermediate</td>\n",
       "    </tr>\n",
       "    <tr>\n",
       "      <th>3463</th>\n",
       "      <td>CHEMBL119385</td>\n",
       "      <td>O=c1ncn2nc(Sc3ccc(F)cc3F)ccc2c1-c1c(Cl)cccc1Cl</td>\n",
       "      <td>5000.00</td>\n",
       "      <td>intermediate</td>\n",
       "    </tr>\n",
       "  </tbody>\n",
       "</table>\n",
       "<p>3464 rows × 4 columns</p>\n",
       "</div>"
      ],
      "text/plain": [
       "     molecule_chembl_id  ...         class\n",
       "0          CHEMBL260397  ...      inactive\n",
       "1          CHEMBL258844  ...  intermediate\n",
       "2          CHEMBL178397  ...      inactive\n",
       "3          CHEMBL178468  ...      inactive\n",
       "4          CHEMBL359864  ...      inactive\n",
       "...                 ...  ...           ...\n",
       "3459      CHEMBL1077375  ...        active\n",
       "3460      CHEMBL1077376  ...        active\n",
       "3461      CHEMBL2023714  ...        active\n",
       "3462      CHEMBL2023842  ...  intermediate\n",
       "3463       CHEMBL119385  ...  intermediate\n",
       "\n",
       "[3464 rows x 4 columns]"
      ]
     },
     "execution_count": 13,
     "metadata": {
      "tags": []
     },
     "output_type": "execute_result"
    }
   ],
   "source": [
    "df"
   ]
  },
  {
   "cell_type": "markdown",
   "metadata": {
    "id": "eET6iZ1Aw3oe"
   },
   "source": [
    "Now, let's combine the 2 DataFrame"
   ]
  },
  {
   "cell_type": "code",
   "execution_count": null,
   "metadata": {
    "id": "L9nUZC0Ww3gp"
   },
   "outputs": [],
   "source": [
    "df_combined = pd.concat([df,df_lipinski], axis=1)"
   ]
  },
  {
   "cell_type": "code",
   "execution_count": null,
   "metadata": {
    "colab": {
     "base_uri": "https://localhost:8080/",
     "height": 568
    },
    "executionInfo": {
     "elapsed": 413,
     "status": "ok",
     "timestamp": 1625852374099,
     "user": {
      "displayName": "Archi Shukla",
      "photoUrl": "https://lh3.googleusercontent.com/a-/AOh14GgYGQd-M4aUvMbhx1us6uPO7GoNEGEAYQzmE5BsYeQ=s64",
      "userId": "00468706026079091027"
     },
     "user_tz": -330
    },
    "id": "FRBfBP3QxFJp",
    "outputId": "ea940cba-8db3-4674-c8a0-82b402de4ca6"
   },
   "outputs": [
    {
     "data": {
      "text/html": [
       "<div>\n",
       "<style scoped>\n",
       "    .dataframe tbody tr th:only-of-type {\n",
       "        vertical-align: middle;\n",
       "    }\n",
       "\n",
       "    .dataframe tbody tr th {\n",
       "        vertical-align: top;\n",
       "    }\n",
       "\n",
       "    .dataframe thead th {\n",
       "        text-align: right;\n",
       "    }\n",
       "</style>\n",
       "<table border=\"1\" class=\"dataframe\">\n",
       "  <thead>\n",
       "    <tr style=\"text-align: right;\">\n",
       "      <th></th>\n",
       "      <th>molecule_chembl_id</th>\n",
       "      <th>canonical_smiles</th>\n",
       "      <th>standard_value</th>\n",
       "      <th>class</th>\n",
       "      <th>MW</th>\n",
       "      <th>LogP</th>\n",
       "      <th>NumHDonors</th>\n",
       "      <th>NumHAcceptors</th>\n",
       "    </tr>\n",
       "  </thead>\n",
       "  <tbody>\n",
       "    <tr>\n",
       "      <th>0</th>\n",
       "      <td>CHEMBL260397</td>\n",
       "      <td>Oc1nc2ccccc2n1C1CCN(Cc2ccc(-c3nc4ccccc4nc3-c3c...</td>\n",
       "      <td>50000.00</td>\n",
       "      <td>inactive</td>\n",
       "      <td>511.629</td>\n",
       "      <td>6.85620</td>\n",
       "      <td>1.0</td>\n",
       "      <td>6.0</td>\n",
       "    </tr>\n",
       "    <tr>\n",
       "      <th>1</th>\n",
       "      <td>CHEMBL258844</td>\n",
       "      <td>O=c1[nH]c2ccccc2n1C1CCN(Cc2ccc(-c3nc4cc5[nH]cn...</td>\n",
       "      <td>2200.00</td>\n",
       "      <td>intermediate</td>\n",
       "      <td>551.654</td>\n",
       "      <td>6.32020</td>\n",
       "      <td>2.0</td>\n",
       "      <td>6.0</td>\n",
       "    </tr>\n",
       "    <tr>\n",
       "      <th>2</th>\n",
       "      <td>CHEMBL178397</td>\n",
       "      <td>Cc1nc(-c2ccc(CN3CCC(n4c(=O)[nH]c5ccccc54)CC3)c...</td>\n",
       "      <td>20000.00</td>\n",
       "      <td>inactive</td>\n",
       "      <td>491.595</td>\n",
       "      <td>4.89242</td>\n",
       "      <td>2.0</td>\n",
       "      <td>5.0</td>\n",
       "    </tr>\n",
       "    <tr>\n",
       "      <th>3</th>\n",
       "      <td>CHEMBL178468</td>\n",
       "      <td>CC(C)Cc1nc(-c2ccccc2)c(-c2ccc(CN3CCC(n4c(O)nc5...</td>\n",
       "      <td>20000.00</td>\n",
       "      <td>inactive</td>\n",
       "      <td>533.676</td>\n",
       "      <td>6.60710</td>\n",
       "      <td>2.0</td>\n",
       "      <td>7.0</td>\n",
       "    </tr>\n",
       "    <tr>\n",
       "      <th>4</th>\n",
       "      <td>CHEMBL359864</td>\n",
       "      <td>Oc1nc2ccccc2n1C1CCN(Cc2ccc(-c3nc4ccccc4cc3-c3c...</td>\n",
       "      <td>50000.00</td>\n",
       "      <td>inactive</td>\n",
       "      <td>510.641</td>\n",
       "      <td>7.46120</td>\n",
       "      <td>1.0</td>\n",
       "      <td>5.0</td>\n",
       "    </tr>\n",
       "    <tr>\n",
       "      <th>...</th>\n",
       "      <td>...</td>\n",
       "      <td>...</td>\n",
       "      <td>...</td>\n",
       "      <td>...</td>\n",
       "      <td>...</td>\n",
       "      <td>...</td>\n",
       "      <td>...</td>\n",
       "      <td>...</td>\n",
       "    </tr>\n",
       "    <tr>\n",
       "      <th>3459</th>\n",
       "      <td>CHEMBL1077375</td>\n",
       "      <td>N=C(N)NCCC[C@@H](NC(=O)[C@@H](CCCNC(=N)N)NC(=O...</td>\n",
       "      <td>12.00</td>\n",
       "      <td>active</td>\n",
       "      <td>1511.886</td>\n",
       "      <td>-5.65838</td>\n",
       "      <td>30.0</td>\n",
       "      <td>21.0</td>\n",
       "    </tr>\n",
       "    <tr>\n",
       "      <th>3460</th>\n",
       "      <td>CHEMBL1077376</td>\n",
       "      <td>N=C(N)NCCC[C@@H](NC(=O)CCCCCNC(=O)[C@@H](CCCCN...</td>\n",
       "      <td>42.00</td>\n",
       "      <td>active</td>\n",
       "      <td>1640.061</td>\n",
       "      <td>-6.04458</td>\n",
       "      <td>32.0</td>\n",
       "      <td>23.0</td>\n",
       "    </tr>\n",
       "    <tr>\n",
       "      <th>3461</th>\n",
       "      <td>CHEMBL2023714</td>\n",
       "      <td>N=C(N)NCCC[C@@H](NC(=O)[C@@H](CCCNC(=N)N)NC(=O...</td>\n",
       "      <td>72.44</td>\n",
       "      <td>active</td>\n",
       "      <td>1301.605</td>\n",
       "      <td>-6.36318</td>\n",
       "      <td>27.0</td>\n",
       "      <td>17.0</td>\n",
       "    </tr>\n",
       "    <tr>\n",
       "      <th>3462</th>\n",
       "      <td>CHEMBL2023842</td>\n",
       "      <td>N=C(N)NCCC[C@@H](NC(=O)[C@@H](CCCNC(=N)N)NC(=O...</td>\n",
       "      <td>9120.11</td>\n",
       "      <td>intermediate</td>\n",
       "      <td>986.303</td>\n",
       "      <td>0.54364</td>\n",
       "      <td>12.0</td>\n",
       "      <td>12.0</td>\n",
       "    </tr>\n",
       "    <tr>\n",
       "      <th>3463</th>\n",
       "      <td>CHEMBL119385</td>\n",
       "      <td>O=c1ncn2nc(Sc3ccc(F)cc3F)ccc2c1-c1c(Cl)cccc1Cl</td>\n",
       "      <td>5000.00</td>\n",
       "      <td>intermediate</td>\n",
       "      <td>436.270</td>\n",
       "      <td>5.49270</td>\n",
       "      <td>0.0</td>\n",
       "      <td>5.0</td>\n",
       "    </tr>\n",
       "  </tbody>\n",
       "</table>\n",
       "<p>3464 rows × 8 columns</p>\n",
       "</div>"
      ],
      "text/plain": [
       "     molecule_chembl_id  ... NumHAcceptors\n",
       "0          CHEMBL260397  ...           6.0\n",
       "1          CHEMBL258844  ...           6.0\n",
       "2          CHEMBL178397  ...           5.0\n",
       "3          CHEMBL178468  ...           7.0\n",
       "4          CHEMBL359864  ...           5.0\n",
       "...                 ...  ...           ...\n",
       "3459      CHEMBL1077375  ...          21.0\n",
       "3460      CHEMBL1077376  ...          23.0\n",
       "3461      CHEMBL2023714  ...          17.0\n",
       "3462      CHEMBL2023842  ...          12.0\n",
       "3463       CHEMBL119385  ...           5.0\n",
       "\n",
       "[3464 rows x 8 columns]"
      ]
     },
     "execution_count": 15,
     "metadata": {
      "tags": []
     },
     "output_type": "execute_result"
    }
   ],
   "source": [
    "df_combined"
   ]
  },
  {
   "cell_type": "markdown",
   "metadata": {
    "id": "e0MLOedB6j96"
   },
   "source": [
    "### **Convert IC50 to pIC50**\n",
    "To allow **IC50** data to be more uniformly distributed, we will convert **IC50** to the negative logarithmic scale which is essentially **-log10(IC50)**.\n",
    "\n",
    "This custom function pIC50() will accept a DataFrame as input and will:\n",
    "* Take the IC50 values from the ``standard_value`` column and converts it from nM to M by multiplying the value by 10$^{-9}$\n",
    "* Take the molar value and apply -log10\n",
    "* Delete the ``standard_value`` column and create a new ``pIC50`` column"
   ]
  },
  {
   "cell_type": "code",
   "execution_count": null,
   "metadata": {
    "id": "UXMuFQoQ4pZF"
   },
   "outputs": [],
   "source": [
    "# https://github.com/chaninlab/estrogen-receptor-alpha-qsar/blob/master/02_ER_alpha_RO5.ipynb\n",
    "\n",
    "import numpy as np\n",
    "\n",
    "def pIC50(input):\n",
    "    pIC50 = []\n",
    "\n",
    "    for i in input['standard_value_norm']:\n",
    "        molar = i*(10**-9) # Converts nM to M\n",
    "        pIC50.append(-np.log10(molar))\n",
    "\n",
    "    input['pIC50'] = pIC50\n",
    "    x = input.drop('standard_value_norm', 1)\n",
    "        \n",
    "    return x"
   ]
  },
  {
   "cell_type": "markdown",
   "metadata": {
    "id": "WU5Fh1h2OaJJ"
   },
   "source": [
    "Point to note: Values greater than 100,000,000 will be fixed at 100,000,000 otherwise the negative logarithmic value will become negative."
   ]
  },
  {
   "cell_type": "code",
   "execution_count": null,
   "metadata": {
    "colab": {
     "base_uri": "https://localhost:8080/"
    },
    "executionInfo": {
     "elapsed": 384,
     "status": "ok",
     "timestamp": 1625852392102,
     "user": {
      "displayName": "Archi Shukla",
      "photoUrl": "https://lh3.googleusercontent.com/a-/AOh14GgYGQd-M4aUvMbhx1us6uPO7GoNEGEAYQzmE5BsYeQ=s64",
      "userId": "00468706026079091027"
     },
     "user_tz": -330
    },
    "id": "QuUTFUpcR1wU",
    "outputId": "aacd5486-1e12-4f7c-f16a-48f4df95a75c"
   },
   "outputs": [
    {
     "data": {
      "text/plain": [
       "count       3464.000000\n",
       "mean       10300.521715\n",
       "std        45325.682893\n",
       "min            0.100000\n",
       "25%           18.000000\n",
       "50%          176.250000\n",
       "75%         2136.250000\n",
       "max      1000000.000000\n",
       "Name: standard_value, dtype: float64"
      ]
     },
     "execution_count": 17,
     "metadata": {
      "tags": []
     },
     "output_type": "execute_result"
    }
   ],
   "source": [
    "df_combined.standard_value.describe()"
   ]
  },
  {
   "cell_type": "code",
   "execution_count": null,
   "metadata": {
    "colab": {
     "base_uri": "https://localhost:8080/"
    },
    "executionInfo": {
     "elapsed": 6,
     "status": "ok",
     "timestamp": 1625852393773,
     "user": {
      "displayName": "Archi Shukla",
      "photoUrl": "https://lh3.googleusercontent.com/a-/AOh14GgYGQd-M4aUvMbhx1us6uPO7GoNEGEAYQzmE5BsYeQ=s64",
      "userId": "00468706026079091027"
     },
     "user_tz": -330
    },
    "id": "QyiJ0to5N6Z_",
    "outputId": "ce6553c3-f7f3-4d1f-e6f4-3e9752f0f2d0"
   },
   "outputs": [
    {
     "data": {
      "text/plain": [
       "1.0"
      ]
     },
     "execution_count": 18,
     "metadata": {
      "tags": []
     },
     "output_type": "execute_result"
    }
   ],
   "source": [
    "-np.log10( (10**-9)* 100000000 )"
   ]
  },
  {
   "cell_type": "code",
   "execution_count": null,
   "metadata": {
    "colab": {
     "base_uri": "https://localhost:8080/"
    },
    "executionInfo": {
     "elapsed": 651,
     "status": "ok",
     "timestamp": 1625852395496,
     "user": {
      "displayName": "Archi Shukla",
      "photoUrl": "https://lh3.googleusercontent.com/a-/AOh14GgYGQd-M4aUvMbhx1us6uPO7GoNEGEAYQzmE5BsYeQ=s64",
      "userId": "00468706026079091027"
     },
     "user_tz": -330
    },
    "id": "9S1aJkOYOP6K",
    "outputId": "0d380581-48cc-4e89-99f6-d2fb9d2e022a"
   },
   "outputs": [
    {
     "data": {
      "text/plain": [
       "-1.0"
      ]
     },
     "execution_count": 19,
     "metadata": {
      "tags": []
     },
     "output_type": "execute_result"
    }
   ],
   "source": [
    "-np.log10( (10**-9)* 10000000000 )"
   ]
  },
  {
   "cell_type": "code",
   "execution_count": null,
   "metadata": {
    "id": "iktHDDwtPDwl"
   },
   "outputs": [],
   "source": [
    "def norm_value(input):\n",
    "    norm = []\n",
    "\n",
    "    for i in input['standard_value']:\n",
    "        if i > 100000000:\n",
    "          i = 100000000\n",
    "        norm.append(i)\n",
    "\n",
    "    input['standard_value_norm'] = norm\n",
    "    x = input.drop('standard_value', 1)\n",
    "        \n",
    "    return x"
   ]
  },
  {
   "cell_type": "markdown",
   "metadata": {
    "id": "EkrTs7RfPsrH"
   },
   "source": [
    "We will first apply the norm_value() function so that the values in the standard_value column is normalized."
   ]
  },
  {
   "cell_type": "code",
   "execution_count": null,
   "metadata": {
    "colab": {
     "base_uri": "https://localhost:8080/",
     "height": 585
    },
    "executionInfo": {
     "elapsed": 18,
     "status": "ok",
     "timestamp": 1625852399461,
     "user": {
      "displayName": "Archi Shukla",
      "photoUrl": "https://lh3.googleusercontent.com/a-/AOh14GgYGQd-M4aUvMbhx1us6uPO7GoNEGEAYQzmE5BsYeQ=s64",
      "userId": "00468706026079091027"
     },
     "user_tz": -330
    },
    "id": "EX2Mj2-ZP1Rj",
    "outputId": "01544839-9691-41ed-d80f-7caa7e081490"
   },
   "outputs": [
    {
     "data": {
      "text/html": [
       "<div>\n",
       "<style scoped>\n",
       "    .dataframe tbody tr th:only-of-type {\n",
       "        vertical-align: middle;\n",
       "    }\n",
       "\n",
       "    .dataframe tbody tr th {\n",
       "        vertical-align: top;\n",
       "    }\n",
       "\n",
       "    .dataframe thead th {\n",
       "        text-align: right;\n",
       "    }\n",
       "</style>\n",
       "<table border=\"1\" class=\"dataframe\">\n",
       "  <thead>\n",
       "    <tr style=\"text-align: right;\">\n",
       "      <th></th>\n",
       "      <th>molecule_chembl_id</th>\n",
       "      <th>canonical_smiles</th>\n",
       "      <th>class</th>\n",
       "      <th>MW</th>\n",
       "      <th>LogP</th>\n",
       "      <th>NumHDonors</th>\n",
       "      <th>NumHAcceptors</th>\n",
       "      <th>standard_value_norm</th>\n",
       "    </tr>\n",
       "  </thead>\n",
       "  <tbody>\n",
       "    <tr>\n",
       "      <th>0</th>\n",
       "      <td>CHEMBL260397</td>\n",
       "      <td>Oc1nc2ccccc2n1C1CCN(Cc2ccc(-c3nc4ccccc4nc3-c3c...</td>\n",
       "      <td>inactive</td>\n",
       "      <td>511.629</td>\n",
       "      <td>6.85620</td>\n",
       "      <td>1.0</td>\n",
       "      <td>6.0</td>\n",
       "      <td>50000.00</td>\n",
       "    </tr>\n",
       "    <tr>\n",
       "      <th>1</th>\n",
       "      <td>CHEMBL258844</td>\n",
       "      <td>O=c1[nH]c2ccccc2n1C1CCN(Cc2ccc(-c3nc4cc5[nH]cn...</td>\n",
       "      <td>intermediate</td>\n",
       "      <td>551.654</td>\n",
       "      <td>6.32020</td>\n",
       "      <td>2.0</td>\n",
       "      <td>6.0</td>\n",
       "      <td>2200.00</td>\n",
       "    </tr>\n",
       "    <tr>\n",
       "      <th>2</th>\n",
       "      <td>CHEMBL178397</td>\n",
       "      <td>Cc1nc(-c2ccc(CN3CCC(n4c(=O)[nH]c5ccccc54)CC3)c...</td>\n",
       "      <td>inactive</td>\n",
       "      <td>491.595</td>\n",
       "      <td>4.89242</td>\n",
       "      <td>2.0</td>\n",
       "      <td>5.0</td>\n",
       "      <td>20000.00</td>\n",
       "    </tr>\n",
       "    <tr>\n",
       "      <th>3</th>\n",
       "      <td>CHEMBL178468</td>\n",
       "      <td>CC(C)Cc1nc(-c2ccccc2)c(-c2ccc(CN3CCC(n4c(O)nc5...</td>\n",
       "      <td>inactive</td>\n",
       "      <td>533.676</td>\n",
       "      <td>6.60710</td>\n",
       "      <td>2.0</td>\n",
       "      <td>7.0</td>\n",
       "      <td>20000.00</td>\n",
       "    </tr>\n",
       "    <tr>\n",
       "      <th>4</th>\n",
       "      <td>CHEMBL359864</td>\n",
       "      <td>Oc1nc2ccccc2n1C1CCN(Cc2ccc(-c3nc4ccccc4cc3-c3c...</td>\n",
       "      <td>inactive</td>\n",
       "      <td>510.641</td>\n",
       "      <td>7.46120</td>\n",
       "      <td>1.0</td>\n",
       "      <td>5.0</td>\n",
       "      <td>50000.00</td>\n",
       "    </tr>\n",
       "    <tr>\n",
       "      <th>...</th>\n",
       "      <td>...</td>\n",
       "      <td>...</td>\n",
       "      <td>...</td>\n",
       "      <td>...</td>\n",
       "      <td>...</td>\n",
       "      <td>...</td>\n",
       "      <td>...</td>\n",
       "      <td>...</td>\n",
       "    </tr>\n",
       "    <tr>\n",
       "      <th>3459</th>\n",
       "      <td>CHEMBL1077375</td>\n",
       "      <td>N=C(N)NCCC[C@@H](NC(=O)[C@@H](CCCNC(=N)N)NC(=O...</td>\n",
       "      <td>active</td>\n",
       "      <td>1511.886</td>\n",
       "      <td>-5.65838</td>\n",
       "      <td>30.0</td>\n",
       "      <td>21.0</td>\n",
       "      <td>12.00</td>\n",
       "    </tr>\n",
       "    <tr>\n",
       "      <th>3460</th>\n",
       "      <td>CHEMBL1077376</td>\n",
       "      <td>N=C(N)NCCC[C@@H](NC(=O)CCCCCNC(=O)[C@@H](CCCCN...</td>\n",
       "      <td>active</td>\n",
       "      <td>1640.061</td>\n",
       "      <td>-6.04458</td>\n",
       "      <td>32.0</td>\n",
       "      <td>23.0</td>\n",
       "      <td>42.00</td>\n",
       "    </tr>\n",
       "    <tr>\n",
       "      <th>3461</th>\n",
       "      <td>CHEMBL2023714</td>\n",
       "      <td>N=C(N)NCCC[C@@H](NC(=O)[C@@H](CCCNC(=N)N)NC(=O...</td>\n",
       "      <td>active</td>\n",
       "      <td>1301.605</td>\n",
       "      <td>-6.36318</td>\n",
       "      <td>27.0</td>\n",
       "      <td>17.0</td>\n",
       "      <td>72.44</td>\n",
       "    </tr>\n",
       "    <tr>\n",
       "      <th>3462</th>\n",
       "      <td>CHEMBL2023842</td>\n",
       "      <td>N=C(N)NCCC[C@@H](NC(=O)[C@@H](CCCNC(=N)N)NC(=O...</td>\n",
       "      <td>intermediate</td>\n",
       "      <td>986.303</td>\n",
       "      <td>0.54364</td>\n",
       "      <td>12.0</td>\n",
       "      <td>12.0</td>\n",
       "      <td>9120.11</td>\n",
       "    </tr>\n",
       "    <tr>\n",
       "      <th>3463</th>\n",
       "      <td>CHEMBL119385</td>\n",
       "      <td>O=c1ncn2nc(Sc3ccc(F)cc3F)ccc2c1-c1c(Cl)cccc1Cl</td>\n",
       "      <td>intermediate</td>\n",
       "      <td>436.270</td>\n",
       "      <td>5.49270</td>\n",
       "      <td>0.0</td>\n",
       "      <td>5.0</td>\n",
       "      <td>5000.00</td>\n",
       "    </tr>\n",
       "  </tbody>\n",
       "</table>\n",
       "<p>3464 rows × 8 columns</p>\n",
       "</div>"
      ],
      "text/plain": [
       "     molecule_chembl_id  ... standard_value_norm\n",
       "0          CHEMBL260397  ...            50000.00\n",
       "1          CHEMBL258844  ...             2200.00\n",
       "2          CHEMBL178397  ...            20000.00\n",
       "3          CHEMBL178468  ...            20000.00\n",
       "4          CHEMBL359864  ...            50000.00\n",
       "...                 ...  ...                 ...\n",
       "3459      CHEMBL1077375  ...               12.00\n",
       "3460      CHEMBL1077376  ...               42.00\n",
       "3461      CHEMBL2023714  ...               72.44\n",
       "3462      CHEMBL2023842  ...             9120.11\n",
       "3463       CHEMBL119385  ...             5000.00\n",
       "\n",
       "[3464 rows x 8 columns]"
      ]
     },
     "execution_count": 21,
     "metadata": {
      "tags": []
     },
     "output_type": "execute_result"
    }
   ],
   "source": [
    "df_norm = norm_value(df_combined)\n",
    "df_norm"
   ]
  },
  {
   "cell_type": "code",
   "execution_count": null,
   "metadata": {
    "colab": {
     "base_uri": "https://localhost:8080/"
    },
    "executionInfo": {
     "elapsed": 384,
     "status": "ok",
     "timestamp": 1625852403065,
     "user": {
      "displayName": "Archi Shukla",
      "photoUrl": "https://lh3.googleusercontent.com/a-/AOh14GgYGQd-M4aUvMbhx1us6uPO7GoNEGEAYQzmE5BsYeQ=s64",
      "userId": "00468706026079091027"
     },
     "user_tz": -330
    },
    "id": "hb1eKrIjRiH9",
    "outputId": "bd457646-6303-446f-92b2-67e2c2d152d4"
   },
   "outputs": [
    {
     "data": {
      "text/plain": [
       "count       3464.000000\n",
       "mean       10300.521715\n",
       "std        45325.682893\n",
       "min            0.100000\n",
       "25%           18.000000\n",
       "50%          176.250000\n",
       "75%         2136.250000\n",
       "max      1000000.000000\n",
       "Name: standard_value_norm, dtype: float64"
      ]
     },
     "execution_count": 22,
     "metadata": {
      "tags": []
     },
     "output_type": "execute_result"
    }
   ],
   "source": [
    "df_norm.standard_value_norm.describe()"
   ]
  },
  {
   "cell_type": "code",
   "execution_count": null,
   "metadata": {
    "colab": {
     "base_uri": "https://localhost:8080/",
     "height": 484
    },
    "executionInfo": {
     "elapsed": 429,
     "status": "ok",
     "timestamp": 1625852406210,
     "user": {
      "displayName": "Archi Shukla",
      "photoUrl": "https://lh3.googleusercontent.com/a-/AOh14GgYGQd-M4aUvMbhx1us6uPO7GoNEGEAYQzmE5BsYeQ=s64",
      "userId": "00468706026079091027"
     },
     "user_tz": -330
    },
    "id": "UDKZzmK57YnS",
    "outputId": "ae46e2dc-6b88-403c-b8c3-2015c96893da"
   },
   "outputs": [
    {
     "data": {
      "text/html": [
       "<div>\n",
       "<style scoped>\n",
       "    .dataframe tbody tr th:only-of-type {\n",
       "        vertical-align: middle;\n",
       "    }\n",
       "\n",
       "    .dataframe tbody tr th {\n",
       "        vertical-align: top;\n",
       "    }\n",
       "\n",
       "    .dataframe thead th {\n",
       "        text-align: right;\n",
       "    }\n",
       "</style>\n",
       "<table border=\"1\" class=\"dataframe\">\n",
       "  <thead>\n",
       "    <tr style=\"text-align: right;\">\n",
       "      <th></th>\n",
       "      <th>molecule_chembl_id</th>\n",
       "      <th>canonical_smiles</th>\n",
       "      <th>class</th>\n",
       "      <th>MW</th>\n",
       "      <th>LogP</th>\n",
       "      <th>NumHDonors</th>\n",
       "      <th>NumHAcceptors</th>\n",
       "      <th>pIC50</th>\n",
       "    </tr>\n",
       "  </thead>\n",
       "  <tbody>\n",
       "    <tr>\n",
       "      <th>0</th>\n",
       "      <td>CHEMBL260397</td>\n",
       "      <td>Oc1nc2ccccc2n1C1CCN(Cc2ccc(-c3nc4ccccc4nc3-c3c...</td>\n",
       "      <td>inactive</td>\n",
       "      <td>511.629</td>\n",
       "      <td>6.85620</td>\n",
       "      <td>1.0</td>\n",
       "      <td>6.0</td>\n",
       "      <td>4.301030</td>\n",
       "    </tr>\n",
       "    <tr>\n",
       "      <th>1</th>\n",
       "      <td>CHEMBL258844</td>\n",
       "      <td>O=c1[nH]c2ccccc2n1C1CCN(Cc2ccc(-c3nc4cc5[nH]cn...</td>\n",
       "      <td>intermediate</td>\n",
       "      <td>551.654</td>\n",
       "      <td>6.32020</td>\n",
       "      <td>2.0</td>\n",
       "      <td>6.0</td>\n",
       "      <td>5.657577</td>\n",
       "    </tr>\n",
       "    <tr>\n",
       "      <th>2</th>\n",
       "      <td>CHEMBL178397</td>\n",
       "      <td>Cc1nc(-c2ccc(CN3CCC(n4c(=O)[nH]c5ccccc54)CC3)c...</td>\n",
       "      <td>inactive</td>\n",
       "      <td>491.595</td>\n",
       "      <td>4.89242</td>\n",
       "      <td>2.0</td>\n",
       "      <td>5.0</td>\n",
       "      <td>4.698970</td>\n",
       "    </tr>\n",
       "    <tr>\n",
       "      <th>3</th>\n",
       "      <td>CHEMBL178468</td>\n",
       "      <td>CC(C)Cc1nc(-c2ccccc2)c(-c2ccc(CN3CCC(n4c(O)nc5...</td>\n",
       "      <td>inactive</td>\n",
       "      <td>533.676</td>\n",
       "      <td>6.60710</td>\n",
       "      <td>2.0</td>\n",
       "      <td>7.0</td>\n",
       "      <td>4.698970</td>\n",
       "    </tr>\n",
       "    <tr>\n",
       "      <th>4</th>\n",
       "      <td>CHEMBL359864</td>\n",
       "      <td>Oc1nc2ccccc2n1C1CCN(Cc2ccc(-c3nc4ccccc4cc3-c3c...</td>\n",
       "      <td>inactive</td>\n",
       "      <td>510.641</td>\n",
       "      <td>7.46120</td>\n",
       "      <td>1.0</td>\n",
       "      <td>5.0</td>\n",
       "      <td>4.301030</td>\n",
       "    </tr>\n",
       "    <tr>\n",
       "      <th>...</th>\n",
       "      <td>...</td>\n",
       "      <td>...</td>\n",
       "      <td>...</td>\n",
       "      <td>...</td>\n",
       "      <td>...</td>\n",
       "      <td>...</td>\n",
       "      <td>...</td>\n",
       "      <td>...</td>\n",
       "    </tr>\n",
       "    <tr>\n",
       "      <th>3459</th>\n",
       "      <td>CHEMBL1077375</td>\n",
       "      <td>N=C(N)NCCC[C@@H](NC(=O)[C@@H](CCCNC(=N)N)NC(=O...</td>\n",
       "      <td>active</td>\n",
       "      <td>1511.886</td>\n",
       "      <td>-5.65838</td>\n",
       "      <td>30.0</td>\n",
       "      <td>21.0</td>\n",
       "      <td>7.920819</td>\n",
       "    </tr>\n",
       "    <tr>\n",
       "      <th>3460</th>\n",
       "      <td>CHEMBL1077376</td>\n",
       "      <td>N=C(N)NCCC[C@@H](NC(=O)CCCCCNC(=O)[C@@H](CCCCN...</td>\n",
       "      <td>active</td>\n",
       "      <td>1640.061</td>\n",
       "      <td>-6.04458</td>\n",
       "      <td>32.0</td>\n",
       "      <td>23.0</td>\n",
       "      <td>7.376751</td>\n",
       "    </tr>\n",
       "    <tr>\n",
       "      <th>3461</th>\n",
       "      <td>CHEMBL2023714</td>\n",
       "      <td>N=C(N)NCCC[C@@H](NC(=O)[C@@H](CCCNC(=N)N)NC(=O...</td>\n",
       "      <td>active</td>\n",
       "      <td>1301.605</td>\n",
       "      <td>-6.36318</td>\n",
       "      <td>27.0</td>\n",
       "      <td>17.0</td>\n",
       "      <td>7.140022</td>\n",
       "    </tr>\n",
       "    <tr>\n",
       "      <th>3462</th>\n",
       "      <td>CHEMBL2023842</td>\n",
       "      <td>N=C(N)NCCC[C@@H](NC(=O)[C@@H](CCCNC(=N)N)NC(=O...</td>\n",
       "      <td>intermediate</td>\n",
       "      <td>986.303</td>\n",
       "      <td>0.54364</td>\n",
       "      <td>12.0</td>\n",
       "      <td>12.0</td>\n",
       "      <td>5.040000</td>\n",
       "    </tr>\n",
       "    <tr>\n",
       "      <th>3463</th>\n",
       "      <td>CHEMBL119385</td>\n",
       "      <td>O=c1ncn2nc(Sc3ccc(F)cc3F)ccc2c1-c1c(Cl)cccc1Cl</td>\n",
       "      <td>intermediate</td>\n",
       "      <td>436.270</td>\n",
       "      <td>5.49270</td>\n",
       "      <td>0.0</td>\n",
       "      <td>5.0</td>\n",
       "      <td>5.301030</td>\n",
       "    </tr>\n",
       "  </tbody>\n",
       "</table>\n",
       "<p>3464 rows × 8 columns</p>\n",
       "</div>"
      ],
      "text/plain": [
       "     molecule_chembl_id  ...     pIC50\n",
       "0          CHEMBL260397  ...  4.301030\n",
       "1          CHEMBL258844  ...  5.657577\n",
       "2          CHEMBL178397  ...  4.698970\n",
       "3          CHEMBL178468  ...  4.698970\n",
       "4          CHEMBL359864  ...  4.301030\n",
       "...                 ...  ...       ...\n",
       "3459      CHEMBL1077375  ...  7.920819\n",
       "3460      CHEMBL1077376  ...  7.376751\n",
       "3461      CHEMBL2023714  ...  7.140022\n",
       "3462      CHEMBL2023842  ...  5.040000\n",
       "3463       CHEMBL119385  ...  5.301030\n",
       "\n",
       "[3464 rows x 8 columns]"
      ]
     },
     "execution_count": 23,
     "metadata": {
      "tags": []
     },
     "output_type": "execute_result"
    }
   ],
   "source": [
    "df_final = pIC50(df_norm)\n",
    "df_final"
   ]
  },
  {
   "cell_type": "code",
   "execution_count": null,
   "metadata": {
    "colab": {
     "base_uri": "https://localhost:8080/"
    },
    "executionInfo": {
     "elapsed": 14,
     "status": "ok",
     "timestamp": 1625852409691,
     "user": {
      "displayName": "Archi Shukla",
      "photoUrl": "https://lh3.googleusercontent.com/a-/AOh14GgYGQd-M4aUvMbhx1us6uPO7GoNEGEAYQzmE5BsYeQ=s64",
      "userId": "00468706026079091027"
     },
     "user_tz": -330
    },
    "id": "BoqY53udSTYC",
    "outputId": "cf867f45-a030-460e-a7d2-10c5321a2ae5"
   },
   "outputs": [
    {
     "data": {
      "text/plain": [
       "count    3464.000000\n",
       "mean        6.654381\n",
       "std         1.358809\n",
       "min         3.000000\n",
       "25%         5.670348\n",
       "50%         6.753871\n",
       "75%         7.744727\n",
       "max        10.000000\n",
       "Name: pIC50, dtype: float64"
      ]
     },
     "execution_count": 24,
     "metadata": {
      "tags": []
     },
     "output_type": "execute_result"
    }
   ],
   "source": [
    "df_final.pIC50.describe()"
   ]
  },
  {
   "cell_type": "markdown",
   "metadata": {
    "id": "TTB-xkOcgwRX"
   },
   "source": [
    "Let's write this to CSV file."
   ]
  },
  {
   "cell_type": "code",
   "execution_count": null,
   "metadata": {
    "id": "sbZfHUSOgykw"
   },
   "outputs": [],
   "source": [
    "df_final.to_csv('akt_04_bioactivity_data_3class_pIC50.csv')"
   ]
  },
  {
   "cell_type": "markdown",
   "metadata": {
    "id": "05vHBWvqaQtb"
   },
   "source": [
    "### **Removing the 'intermediate' bioactivity class**\n",
    "Here, we will be removing the ``intermediate`` class from our data set."
   ]
  },
  {
   "cell_type": "code",
   "execution_count": null,
   "metadata": {
    "colab": {
     "base_uri": "https://localhost:8080/",
     "height": 49
    },
    "executionInfo": {
     "elapsed": 16,
     "status": "ok",
     "timestamp": 1625852415710,
     "user": {
      "displayName": "Archi Shukla",
      "photoUrl": "https://lh3.googleusercontent.com/a-/AOh14GgYGQd-M4aUvMbhx1us6uPO7GoNEGEAYQzmE5BsYeQ=s64",
      "userId": "00468706026079091027"
     },
     "user_tz": -330
    },
    "id": "HmrndhDW3c7Z",
    "outputId": "463337a1-aec9-404d-8b7f-d28f511ac852"
   },
   "outputs": [
    {
     "data": {
      "text/html": [
       "<div>\n",
       "<style scoped>\n",
       "    .dataframe tbody tr th:only-of-type {\n",
       "        vertical-align: middle;\n",
       "    }\n",
       "\n",
       "    .dataframe tbody tr th {\n",
       "        vertical-align: top;\n",
       "    }\n",
       "\n",
       "    .dataframe thead th {\n",
       "        text-align: right;\n",
       "    }\n",
       "</style>\n",
       "<table border=\"1\" class=\"dataframe\">\n",
       "  <thead>\n",
       "    <tr style=\"text-align: right;\">\n",
       "      <th></th>\n",
       "      <th>molecule_chembl_id</th>\n",
       "      <th>canonical_smiles</th>\n",
       "      <th>class</th>\n",
       "      <th>MW</th>\n",
       "      <th>LogP</th>\n",
       "      <th>NumHDonors</th>\n",
       "      <th>NumHAcceptors</th>\n",
       "      <th>pIC50</th>\n",
       "    </tr>\n",
       "  </thead>\n",
       "  <tbody>\n",
       "  </tbody>\n",
       "</table>\n",
       "</div>"
      ],
      "text/plain": [
       "Empty DataFrame\n",
       "Columns: [molecule_chembl_id, canonical_smiles, class, MW, LogP, NumHDonors, NumHAcceptors, pIC50]\n",
       "Index: []"
      ]
     },
     "execution_count": 26,
     "metadata": {
      "tags": []
     },
     "output_type": "execute_result"
    }
   ],
   "source": [
    "df_2class = df_final[df_final['class'] != 'intermediate']\n",
    "#interm = df_2class[df_2class['class'] == 'intermediate']\n",
    "df_2class\n",
    "#interm"
   ]
  },
  {
   "cell_type": "markdown",
   "metadata": {
    "id": "GJGRNXXigd1o"
   },
   "source": [
    "Let's write this to CSV file."
   ]
  },
  {
   "cell_type": "code",
   "execution_count": null,
   "metadata": {
    "id": "XIiYdeL5ghCo"
   },
   "outputs": [],
   "source": [
    "df_2class.to_csv('akt_05_bioactivity_data_2class_pIC50.csv')"
   ]
  },
  {
   "cell_type": "markdown",
   "metadata": {
    "id": "p9vA4-hQQ8sA"
   },
   "source": [
    "---"
   ]
  },
  {
   "cell_type": "markdown",
   "metadata": {
    "id": "x0vqbQWfxsZu"
   },
   "source": [
    "## **Exploratory Data Analysis (Chemical Space Analysis) via Lipinski descriptors**"
   ]
  },
  {
   "cell_type": "markdown",
   "metadata": {
    "id": "18heJagiyHoF"
   },
   "source": [
    "### **Import library**"
   ]
  },
  {
   "cell_type": "code",
   "execution_count": null,
   "metadata": {
    "id": "0Egq_rNsxtIj"
   },
   "outputs": [],
   "source": [
    "import seaborn as sns\n",
    "sns.set(style='ticks')\n",
    "import matplotlib.pyplot as plt"
   ]
  },
  {
   "cell_type": "markdown",
   "metadata": {
    "id": "NiarmFbOdG3H"
   },
   "source": [
    "### **Frequency plot of the 2 bioactivity classes**"
   ]
  },
  {
   "cell_type": "code",
   "execution_count": null,
   "metadata": {
    "colab": {
     "base_uri": "https://localhost:8080/",
     "height": 503
    },
    "executionInfo": {
     "elapsed": 592,
     "status": "ok",
     "timestamp": 1625853275972,
     "user": {
      "displayName": "Archi Shukla",
      "photoUrl": "https://lh3.googleusercontent.com/a-/AOh14GgYGQd-M4aUvMbhx1us6uPO7GoNEGEAYQzmE5BsYeQ=s64",
      "userId": "00468706026079091027"
     },
     "user_tz": -330
    },
    "id": "w2Ia0iycdMO2",
    "outputId": "327e2048-82e3-42ba-cc43-bdea187f13ad"
   },
   "outputs": [
    {
     "data": {
      "image/png": "[encoded data removed]",
      "text/plain": [
       "<Figure size 576x576 with 1 Axes>"
      ]
     },
     "metadata": {
      "tags": []
     },
     "output_type": "display_data"
    }
   ],
   "source": [
    "plt.figure(figsize=(8, 8))\n",
    "\n",
    "sns.countplot(x='class', data=df_2class, edgecolor='black')\n",
    "\n",
    "plt.xlabel('Bioactivity class', fontsize=14, fontweight='bold')\n",
    "plt.ylabel('Frequency', fontsize=14, fontweight='bold')\n",
    "\n",
    "plt.savefig('plot_bioactivity_class.pdf')"
   ]
  },
  {
   "cell_type": "markdown",
   "metadata": {
    "id": "wB68NKVG0j68"
   },
   "source": [
    "### **Scatter plot of MW versus LogP**\n",
    "\n",
    "It can be seen that the 2 bioactivity classes are spanning similar chemical spaces as evident by the scatter plot of MW vs LogP."
   ]
  },
  {
   "cell_type": "code",
   "execution_count": null,
   "metadata": {
    "colab": {
     "base_uri": "https://localhost:8080/",
     "height": 510
    },
    "executionInfo": {
     "elapsed": 2147,
     "status": "ok",
     "timestamp": 1625855382167,
     "user": {
      "displayName": "Archi Shukla",
      "photoUrl": "https://lh3.googleusercontent.com/a-/AOh14GgYGQd-M4aUvMbhx1us6uPO7GoNEGEAYQzmE5BsYeQ=s64",
      "userId": "00468706026079091027"
     },
     "user_tz": -330
    },
    "id": "F79BNwjF0nub",
    "outputId": "1b091658-c604-41fc-fe9b-fdac90b93c43"
   },
   "outputs": [
    {
     "data": {
      "image/png": "[encoded data removed]",
      "text/plain": [
       "<Figure size 576x576 with 1 Axes>"
      ]
     },
     "metadata": {
      "tags": []
     },
     "output_type": "display_data"
    }
   ],
   "source": [
    "plt.figure(figsize=(8, 8))\n",
    "\n",
    "splot = sns.scatterplot(x='MW', y='LogP', data=df_2class, hue='class', size='pIC50', edgecolor='black', alpha=0.7)\n",
    "splot.set(xscale=\"log\")\n",
    "\n",
    "plt.xlabel('MW', fontsize=14, fontweight='bold')\n",
    "plt.ylabel('LogP', fontsize=14, fontweight='bold')\n",
    "#plt.legend(bbox_to_anchor=(1.05, 1), loc=2, borderaxespad=0)\n",
    "plt.savefig('plot_MW_vs_LogP.pdf')"
   ]
  },
  {
   "cell_type": "markdown",
   "metadata": {
    "id": "oLAfyRwHyJfX"
   },
   "source": [
    "### **Box plots**"
   ]
  },
  {
   "cell_type": "markdown",
   "metadata": {
    "id": "1n1uIAivyOkY"
   },
   "source": [
    "#### **pIC50 value**"
   ]
  },
  {
   "cell_type": "code",
   "execution_count": null,
   "metadata": {
    "colab": {
     "base_uri": "https://localhost:8080/",
     "height": 367
    },
    "executionInfo": {
     "elapsed": 560,
     "status": "ok",
     "timestamp": 1625855443759,
     "user": {
      "displayName": "Archi Shukla",
      "photoUrl": "https://lh3.googleusercontent.com/a-/AOh14GgYGQd-M4aUvMbhx1us6uPO7GoNEGEAYQzmE5BsYeQ=s64",
      "userId": "00468706026079091027"
     },
     "user_tz": -330
    },
    "id": "EpPviw0hxue6",
    "outputId": "cb3531cc-010f-4af3-9614-1f22c55b9323"
   },
   "outputs": [
    {
     "data": {
      "image/png": "[encoded data removed]",
      "text/plain": [
       "<Figure size 396x396 with 1 Axes>"
      ]
     },
     "metadata": {
      "tags": []
     },
     "output_type": "display_data"
    }
   ],
   "source": [
    "plt.figure(figsize=(5.5, 5.5))\n",
    "\n",
    "sns.boxplot(x = 'class', y = 'pIC50', data = df_2class)\n",
    "\n",
    "plt.xlabel('Bioactivity class', fontsize=14, fontweight='bold')\n",
    "plt.ylabel('pIC50 value', fontsize=14, fontweight='bold')\n",
    "\n",
    "plt.savefig('plot_ic50.pdf')"
   ]
  },
  {
   "cell_type": "markdown",
   "metadata": {
    "id": "PsOqKyysCZCv"
   },
   "source": [
    "**Statistical analysis | Mann-Whitney U Test**"
   ]
  },
  {
   "cell_type": "code",
   "execution_count": null,
   "metadata": {
    "id": "LPdV1vDnWBsh"
   },
   "outputs": [],
   "source": [
    "def mannwhitney(descriptor, verbose=False):\n",
    "  # https://machinelearningmastery.com/nonparametric-statistical-significance-tests-in-python/\n",
    "  from numpy.random import seed\n",
    "  from numpy.random import randn\n",
    "  from scipy.stats import mannwhitneyu\n",
    "\n",
    "# seed the random number generator\n",
    "  seed(1)\n",
    "\n",
    "# actives and inactives\n",
    "  selection = [descriptor, 'class']\n",
    "  df = df_2class[selection]\n",
    "  active = df[df['class'] == 'active']\n",
    "  active = active[descriptor]\n",
    "\n",
    "  selection = [descriptor, 'class']\n",
    "  df = df_2class[selection]\n",
    "  inactive = df[df['class'] == 'inactive']\n",
    "  inactive = inactive[descriptor]\n",
    "\n",
    "# compare samples\n",
    "  stat, p = mannwhitneyu(active, inactive)\n",
    "  #print('Statistics=%.3f, p=%.3f' % (stat, p))\n",
    "\n",
    "# interpret\n",
    "  alpha = 0.05\n",
    "  if p > alpha:\n",
    "    interpretation = 'Same distribution (fail to reject H0)'\n",
    "  else:\n",
    "    interpretation = 'Different distribution (reject H0)'\n",
    "  \n",
    "  results = pd.DataFrame({'Descriptor':descriptor,\n",
    "                          'Statistics':stat,\n",
    "                          'p':p,\n",
    "                          'alpha':alpha,\n",
    "                          'Interpretation':interpretation}, index=[0])\n",
    "  filename = 'mannwhitneyu_' + descriptor + '.csv'\n",
    "  results.to_csv(filename)\n",
    "\n",
    "  return results"
   ]
  },
  {
   "cell_type": "code",
   "execution_count": null,
   "metadata": {
    "colab": {
     "base_uri": "https://localhost:8080/",
     "height": 80
    },
    "executionInfo": {
     "elapsed": 28,
     "status": "ok",
     "timestamp": 1625855595034,
     "user": {
      "displayName": "Archi Shukla",
      "photoUrl": "https://lh3.googleusercontent.com/a-/AOh14GgYGQd-M4aUvMbhx1us6uPO7GoNEGEAYQzmE5BsYeQ=s64",
      "userId": "00468706026079091027"
     },
     "user_tz": -330
    },
    "id": "HZmUgOmdYVm5",
    "outputId": "b92dc624-6b72-41b3-d605-aecb68e4b441"
   },
   "outputs": [
    {
     "data": {
      "text/html": [
       "<div>\n",
       "<style scoped>\n",
       "    .dataframe tbody tr th:only-of-type {\n",
       "        vertical-align: middle;\n",
       "    }\n",
       "\n",
       "    .dataframe tbody tr th {\n",
       "        vertical-align: top;\n",
       "    }\n",
       "\n",
       "    .dataframe thead th {\n",
       "        text-align: right;\n",
       "    }\n",
       "</style>\n",
       "<table border=\"1\" class=\"dataframe\">\n",
       "  <thead>\n",
       "    <tr style=\"text-align: right;\">\n",
       "      <th></th>\n",
       "      <th>Descriptor</th>\n",
       "      <th>Statistics</th>\n",
       "      <th>p</th>\n",
       "      <th>alpha</th>\n",
       "      <th>Interpretation</th>\n",
       "    </tr>\n",
       "  </thead>\n",
       "  <tbody>\n",
       "    <tr>\n",
       "      <th>0</th>\n",
       "      <td>pIC50</td>\n",
       "      <td>0.0</td>\n",
       "      <td>1.663002e-301</td>\n",
       "      <td>0.05</td>\n",
       "      <td>Different distribution (reject H0)</td>\n",
       "    </tr>\n",
       "  </tbody>\n",
       "</table>\n",
       "</div>"
      ],
      "text/plain": [
       "  Descriptor  Statistics  ...  alpha                      Interpretation\n",
       "0      pIC50         0.0  ...   0.05  Different distribution (reject H0)\n",
       "\n",
       "[1 rows x 5 columns]"
      ]
     },
     "execution_count": 52,
     "metadata": {
      "tags": []
     },
     "output_type": "execute_result"
    }
   ],
   "source": [
    "mannwhitney('pIC50')"
   ]
  },
  {
   "cell_type": "markdown",
   "metadata": {
    "id": "o2UlCwPmyTBq"
   },
   "source": [
    "#### **MW**"
   ]
  },
  {
   "cell_type": "code",
   "execution_count": null,
   "metadata": {
    "colab": {
     "base_uri": "https://localhost:8080/",
     "height": 503
    },
    "executionInfo": {
     "elapsed": 1394,
     "status": "ok",
     "timestamp": 1625855651997,
     "user": {
      "displayName": "Archi Shukla",
      "photoUrl": "https://lh3.googleusercontent.com/a-/AOh14GgYGQd-M4aUvMbhx1us6uPO7GoNEGEAYQzmE5BsYeQ=s64",
      "userId": "00468706026079091027"
     },
     "user_tz": -330
    },
    "id": "ZNlEEsDEx3m6",
    "outputId": "04a619bf-6df9-4e96-cb21-07f8ccc806bd"
   },
   "outputs": [
    {
     "data": {
      "image/png": "[encoded data removed]",
      "text/plain": [
       "<Figure size 576x576 with 1 Axes>"
      ]
     },
     "metadata": {
      "tags": []
     },
     "output_type": "display_data"
    }
   ],
   "source": [
    "plt.figure(figsize=(8, 8))\n",
    "\n",
    "sns.boxplot(x = 'class', y = 'MW', data = df_2class)\n",
    "\n",
    "plt.xlabel('Bioactivity class', fontsize=14, fontweight='bold')\n",
    "plt.ylabel('MW', fontsize=14, fontweight='bold')\n",
    "\n",
    "plt.savefig('plot_MW.pdf')"
   ]
  },
  {
   "cell_type": "code",
   "execution_count": null,
   "metadata": {
    "colab": {
     "base_uri": "https://localhost:8080/",
     "height": 80
    },
    "executionInfo": {
     "elapsed": 1431,
     "status": "ok",
     "timestamp": 1625855746594,
     "user": {
      "displayName": "Archi Shukla",
      "photoUrl": "https://lh3.googleusercontent.com/a-/AOh14GgYGQd-M4aUvMbhx1us6uPO7GoNEGEAYQzmE5BsYeQ=s64",
      "userId": "00468706026079091027"
     },
     "user_tz": -330
    },
    "id": "wRl2FvgHYqaG",
    "outputId": "63e7bb05-95eb-4f04-eb18-5f0096d2a283"
   },
   "outputs": [
    {
     "data": {
      "text/html": [
       "<div>\n",
       "<style scoped>\n",
       "    .dataframe tbody tr th:only-of-type {\n",
       "        vertical-align: middle;\n",
       "    }\n",
       "\n",
       "    .dataframe tbody tr th {\n",
       "        vertical-align: top;\n",
       "    }\n",
       "\n",
       "    .dataframe thead th {\n",
       "        text-align: right;\n",
       "    }\n",
       "</style>\n",
       "<table border=\"1\" class=\"dataframe\">\n",
       "  <thead>\n",
       "    <tr style=\"text-align: right;\">\n",
       "      <th></th>\n",
       "      <th>Descriptor</th>\n",
       "      <th>Statistics</th>\n",
       "      <th>p</th>\n",
       "      <th>alpha</th>\n",
       "      <th>Interpretation</th>\n",
       "    </tr>\n",
       "  </thead>\n",
       "  <tbody>\n",
       "    <tr>\n",
       "      <th>0</th>\n",
       "      <td>MW</td>\n",
       "      <td>541283.5</td>\n",
       "      <td>3.082874e-15</td>\n",
       "      <td>0.05</td>\n",
       "      <td>Different distribution (reject H0)</td>\n",
       "    </tr>\n",
       "  </tbody>\n",
       "</table>\n",
       "</div>"
      ],
      "text/plain": [
       "  Descriptor  Statistics  ...  alpha                      Interpretation\n",
       "0         MW    541283.5  ...   0.05  Different distribution (reject H0)\n",
       "\n",
       "[1 rows x 5 columns]"
      ]
     },
     "execution_count": 55,
     "metadata": {
      "tags": []
     },
     "output_type": "execute_result"
    }
   ],
   "source": [
    "mannwhitney('MW')"
   ]
  },
  {
   "cell_type": "markdown",
   "metadata": {
    "id": "z5hyBhGqyc6J"
   },
   "source": [
    "#### **LogP**"
   ]
  },
  {
   "cell_type": "code",
   "execution_count": null,
   "metadata": {
    "colab": {
     "base_uri": "https://localhost:8080/",
     "height": 503
    },
    "executionInfo": {
     "elapsed": 476,
     "status": "ok",
     "timestamp": 1625855773739,
     "user": {
      "displayName": "Archi Shukla",
      "photoUrl": "https://lh3.googleusercontent.com/a-/AOh14GgYGQd-M4aUvMbhx1us6uPO7GoNEGEAYQzmE5BsYeQ=s64",
      "userId": "00468706026079091027"
     },
     "user_tz": -330
    },
    "id": "liEtkpI4yX9t",
    "outputId": "acc7b3c4-209d-44ca-914f-a7a6b40a43a6"
   },
   "outputs": [
    {
     "data": {
      "image/png": "[encoded data removed]",
      "text/plain": [
       "<Figure size 576x576 with 1 Axes>"
      ]
     },
     "metadata": {
      "tags": []
     },
     "output_type": "display_data"
    }
   ],
   "source": [
    "plt.figure(figsize=(8, 8))\n",
    "\n",
    "sns.boxplot(x = 'class', y = 'LogP', data = df_2class)\n",
    "\n",
    "plt.xlabel('Bioactivity class', fontsize=14, fontweight='bold')\n",
    "plt.ylabel('LogP', fontsize=14, fontweight='bold')\n",
    "\n",
    "plt.savefig('plot_LogP.pdf')"
   ]
  },
  {
   "cell_type": "markdown",
   "metadata": {
    "id": "2KgV5v_oFLXh"
   },
   "source": [
    "**Statistical analysis | Mann-Whitney U Test**"
   ]
  },
  {
   "cell_type": "code",
   "execution_count": null,
   "metadata": {
    "colab": {
     "base_uri": "https://localhost:8080/",
     "height": 80
    },
    "executionInfo": {
     "elapsed": 663,
     "status": "ok",
     "timestamp": 1625856927804,
     "user": {
      "displayName": "Archi Shukla",
      "photoUrl": "https://lh3.googleusercontent.com/a-/AOh14GgYGQd-M4aUvMbhx1us6uPO7GoNEGEAYQzmE5BsYeQ=s64",
      "userId": "00468706026079091027"
     },
     "user_tz": -330
    },
    "id": "B61UsGMIFLuE",
    "outputId": "e445ed6b-9963-44c4-8e5c-232196fb3b42"
   },
   "outputs": [
    {
     "data": {
      "text/html": [
       "<div>\n",
       "<style scoped>\n",
       "    .dataframe tbody tr th:only-of-type {\n",
       "        vertical-align: middle;\n",
       "    }\n",
       "\n",
       "    .dataframe tbody tr th {\n",
       "        vertical-align: top;\n",
       "    }\n",
       "\n",
       "    .dataframe thead th {\n",
       "        text-align: right;\n",
       "    }\n",
       "</style>\n",
       "<table border=\"1\" class=\"dataframe\">\n",
       "  <thead>\n",
       "    <tr style=\"text-align: right;\">\n",
       "      <th></th>\n",
       "      <th>Descriptor</th>\n",
       "      <th>Statistics</th>\n",
       "      <th>p</th>\n",
       "      <th>alpha</th>\n",
       "      <th>Interpretation</th>\n",
       "    </tr>\n",
       "  </thead>\n",
       "  <tbody>\n",
       "    <tr>\n",
       "      <th>0</th>\n",
       "      <td>LogP</td>\n",
       "      <td>602108.0</td>\n",
       "      <td>0.000003</td>\n",
       "      <td>0.05</td>\n",
       "      <td>Different distribution (reject H0)</td>\n",
       "    </tr>\n",
       "  </tbody>\n",
       "</table>\n",
       "</div>"
      ],
      "text/plain": [
       "  Descriptor  Statistics         p  alpha                      Interpretation\n",
       "0       LogP    602108.0  0.000003   0.05  Different distribution (reject H0)"
      ]
     },
     "execution_count": 57,
     "metadata": {
      "tags": []
     },
     "output_type": "execute_result"
    }
   ],
   "source": [
    "mannwhitney('LogP')"
   ]
  },
  {
   "cell_type": "markdown",
   "metadata": {
    "id": "4db7LZLRym2k"
   },
   "source": [
    "#### **NumHDonors**"
   ]
  },
  {
   "cell_type": "code",
   "execution_count": null,
   "metadata": {
    "colab": {
     "base_uri": "https://localhost:8080/",
     "height": 395
    },
    "executionInfo": {
     "elapsed": 492,
     "status": "ok",
     "timestamp": 1625856962772,
     "user": {
      "displayName": "Archi Shukla",
      "photoUrl": "https://lh3.googleusercontent.com/a-/AOh14GgYGQd-M4aUvMbhx1us6uPO7GoNEGEAYQzmE5BsYeQ=s64",
      "userId": "00468706026079091027"
     },
     "user_tz": -330
    },
    "id": "iru1JPM1yg5A",
    "outputId": "1f4f8ba2-c3cd-4e72-ce9e-1da15b415f04"
   },
   "outputs": [
    {
     "data": {
      "image/png": "[encoded data removed]",
      "text/plain": [
       "<Figure size 432x432 with 1 Axes>"
      ]
     },
     "metadata": {
      "tags": []
     },
     "output_type": "display_data"
    }
   ],
   "source": [
    "plt.figure(figsize=(6, 6))\n",
    "\n",
    "sns.boxplot(x = 'class', y = 'NumHDonors', data = df_2class)\n",
    "\n",
    "plt.xlabel('Bioactivity class', fontsize=14, fontweight='bold')\n",
    "plt.ylabel('NumHDonors', fontsize=14, fontweight='bold')\n",
    "\n",
    "plt.savefig('plot_NumHDonors.pdf')"
   ]
  },
  {
   "cell_type": "markdown",
   "metadata": {
    "id": "vM5vZWanFe3c"
   },
   "source": [
    "**Statistical analysis | Mann-Whitney U Test**"
   ]
  },
  {
   "cell_type": "code",
   "execution_count": null,
   "metadata": {
    "colab": {
     "base_uri": "https://localhost:8080/",
     "height": 80
    },
    "executionInfo": {
     "elapsed": 590,
     "status": "ok",
     "timestamp": 1625856991961,
     "user": {
      "displayName": "Archi Shukla",
      "photoUrl": "https://lh3.googleusercontent.com/a-/AOh14GgYGQd-M4aUvMbhx1us6uPO7GoNEGEAYQzmE5BsYeQ=s64",
      "userId": "00468706026079091027"
     },
     "user_tz": -330
    },
    "id": "mS-rOqq7Fd1E",
    "outputId": "90490bfa-bb5e-4087-a44f-9cf41ecc3a30"
   },
   "outputs": [
    {
     "data": {
      "text/html": [
       "<div>\n",
       "<style scoped>\n",
       "    .dataframe tbody tr th:only-of-type {\n",
       "        vertical-align: middle;\n",
       "    }\n",
       "\n",
       "    .dataframe tbody tr th {\n",
       "        vertical-align: top;\n",
       "    }\n",
       "\n",
       "    .dataframe thead th {\n",
       "        text-align: right;\n",
       "    }\n",
       "</style>\n",
       "<table border=\"1\" class=\"dataframe\">\n",
       "  <thead>\n",
       "    <tr style=\"text-align: right;\">\n",
       "      <th></th>\n",
       "      <th>Descriptor</th>\n",
       "      <th>Statistics</th>\n",
       "      <th>p</th>\n",
       "      <th>alpha</th>\n",
       "      <th>Interpretation</th>\n",
       "    </tr>\n",
       "  </thead>\n",
       "  <tbody>\n",
       "    <tr>\n",
       "      <th>0</th>\n",
       "      <td>NumHDonors</td>\n",
       "      <td>643404.0</td>\n",
       "      <td>0.008193</td>\n",
       "      <td>0.05</td>\n",
       "      <td>Different distribution (reject H0)</td>\n",
       "    </tr>\n",
       "  </tbody>\n",
       "</table>\n",
       "</div>"
      ],
      "text/plain": [
       "   Descriptor  Statistics         p  alpha                      Interpretation\n",
       "0  NumHDonors    643404.0  0.008193   0.05  Different distribution (reject H0)"
      ]
     },
     "execution_count": 59,
     "metadata": {
      "tags": []
     },
     "output_type": "execute_result"
    }
   ],
   "source": [
    "mannwhitney('NumHDonors')"
   ]
  },
  {
   "cell_type": "markdown",
   "metadata": {
    "id": "yOYQ3QiSyu7-"
   },
   "source": [
    "#### **NumHAcceptors**"
   ]
  },
  {
   "cell_type": "code",
   "execution_count": null,
   "metadata": {
    "colab": {
     "base_uri": "https://localhost:8080/",
     "height": 367
    },
    "executionInfo": {
     "elapsed": 477,
     "status": "ok",
     "timestamp": 1625857007545,
     "user": {
      "displayName": "Archi Shukla",
      "photoUrl": "https://lh3.googleusercontent.com/a-/AOh14GgYGQd-M4aUvMbhx1us6uPO7GoNEGEAYQzmE5BsYeQ=s64",
      "userId": "00468706026079091027"
     },
     "user_tz": -330
    },
    "id": "yCw6tgNCyxHf",
    "outputId": "1664da74-f8d8-4ec8-a91f-3a2dccf4c1b4"
   },
   "outputs": [
    {
     "data": {
      "image/png": "[encoded data removed]",
      "text/plain": [
       "<Figure size 396x396 with 1 Axes>"
      ]
     },
     "metadata": {
      "tags": []
     },
     "output_type": "display_data"
    }
   ],
   "source": [
    "plt.figure(figsize=(5.5, 5.5))\n",
    "\n",
    "sns.boxplot(x = 'class', y = 'NumHAcceptors', data = df_2class)\n",
    "\n",
    "plt.xlabel('Bioactivity class', fontsize=14, fontweight='bold')\n",
    "plt.ylabel('NumHAcceptors', fontsize=14, fontweight='bold')\n",
    "\n",
    "plt.savefig('plot_NumHAcceptors.pdf')"
   ]
  },
  {
   "cell_type": "code",
   "execution_count": null,
   "metadata": {
    "colab": {
     "base_uri": "https://localhost:8080/",
     "height": 80
    },
    "executionInfo": {
     "elapsed": 548,
     "status": "ok",
     "timestamp": 1625857019361,
     "user": {
      "displayName": "Archi Shukla",
      "photoUrl": "https://lh3.googleusercontent.com/a-/AOh14GgYGQd-M4aUvMbhx1us6uPO7GoNEGEAYQzmE5BsYeQ=s64",
      "userId": "00468706026079091027"
     },
     "user_tz": -330
    },
    "id": "NEQoDZctFtGG",
    "outputId": "f62a915d-894f-4f25-e18c-8cc0e9c80eef"
   },
   "outputs": [
    {
     "data": {
      "text/html": [
       "<div>\n",
       "<style scoped>\n",
       "    .dataframe tbody tr th:only-of-type {\n",
       "        vertical-align: middle;\n",
       "    }\n",
       "\n",
       "    .dataframe tbody tr th {\n",
       "        vertical-align: top;\n",
       "    }\n",
       "\n",
       "    .dataframe thead th {\n",
       "        text-align: right;\n",
       "    }\n",
       "</style>\n",
       "<table border=\"1\" class=\"dataframe\">\n",
       "  <thead>\n",
       "    <tr style=\"text-align: right;\">\n",
       "      <th></th>\n",
       "      <th>Descriptor</th>\n",
       "      <th>Statistics</th>\n",
       "      <th>p</th>\n",
       "      <th>alpha</th>\n",
       "      <th>Interpretation</th>\n",
       "    </tr>\n",
       "  </thead>\n",
       "  <tbody>\n",
       "    <tr>\n",
       "      <th>0</th>\n",
       "      <td>NumHAcceptors</td>\n",
       "      <td>571608.0</td>\n",
       "      <td>2.186581e-10</td>\n",
       "      <td>0.05</td>\n",
       "      <td>Different distribution (reject H0)</td>\n",
       "    </tr>\n",
       "  </tbody>\n",
       "</table>\n",
       "</div>"
      ],
      "text/plain": [
       "      Descriptor  Statistics  ...  alpha                      Interpretation\n",
       "0  NumHAcceptors    571608.0  ...   0.05  Different distribution (reject H0)\n",
       "\n",
       "[1 rows x 5 columns]"
      ]
     },
     "execution_count": 61,
     "metadata": {
      "tags": []
     },
     "output_type": "execute_result"
    }
   ],
   "source": [
    "mannwhitney('NumHAcceptors')"
   ]
  },
  {
   "cell_type": "markdown",
   "metadata": {
    "id": "p4QjdHVjKYum"
   },
   "source": [
    "#### **Interpretation of Statistical Results**"
   ]
  },
  {
   "cell_type": "markdown",
   "metadata": {
    "id": "mSoOBIqfLbDs"
   },
   "source": [
    "##### **Box Plots**\n",
    "\n",
    "###### **pIC50 values**\n",
    "\n",
    "Taking a look at pIC50 values, the **actives** and **inactives** displayed ***statistically significant difference***, which is to be expected since threshold values (``IC50 < 1,000 nM = Actives while IC50 > 10,000 nM = Inactives``, corresponding to ``pIC50 > 6 = Actives and pIC50 < 5 = Inactives``) were used to define actives and inactives.\n",
    "\n",
    "###### **Lipinski's descriptors**\n",
    "\n",
    "All of the 4 Lipinski's descriptors exhibited ***statistically significant difference*** between the **actives** and **inactives**."
   ]
  },
  {
   "cell_type": "markdown",
   "metadata": {
    "id": "U-rK8l0wWnKK"
   },
   "source": [
    "## **Zip files**"
   ]
  },
  {
   "cell_type": "code",
   "execution_count": null,
   "metadata": {
    "colab": {
     "base_uri": "https://localhost:8080/"
    },
    "executionInfo": {
     "elapsed": 614,
     "status": "ok",
     "timestamp": 1625857027399,
     "user": {
      "displayName": "Archi Shukla",
      "photoUrl": "https://lh3.googleusercontent.com/a-/AOh14GgYGQd-M4aUvMbhx1us6uPO7GoNEGEAYQzmE5BsYeQ=s64",
      "userId": "00468706026079091027"
     },
     "user_tz": -330
    },
    "id": "GW1ZSsfJWqbM",
    "outputId": "4d229e65-62f1-4f36-c8d3-0db6a9c10f1e"
   },
   "outputs": [
    {
     "name": "stdout",
     "output_type": "stream",
     "text": [
      "  adding: mannwhitneyu_LogP.csv (deflated 9%)\n",
      "  adding: mannwhitneyu_MW.csv (deflated 8%)\n",
      "  adding: plot_bioactivity_class.pdf (deflated 39%)\n",
      "  adding: plot_MW_vs_LogP.pdf (deflated 2%)\n",
      "  adding: mannwhitneyu_NumHAcceptors.csv (deflated 11%)\n",
      "  adding: mannwhitneyu_pIC50.csv (deflated 11%)\n",
      "  adding: akt_05_bioactivity_data_2class_pIC50.csv (deflated 79%)\n",
      "  adding: plot_ic50.pdf (deflated 36%)\n",
      "  adding: mannwhitneyu_NumHDonors.csv (deflated 10%)\n",
      "  adding: plot_LogP.pdf (deflated 39%)\n",
      "  adding: plot_MW.pdf (deflated 38%)\n",
      "  adding: akt_03_bioactivity_data_curated.csv (deflated 84%)\n",
      "  adding: plot_NumHAcceptors.pdf (deflated 39%)\n",
      "  adding: plot_NumHDonors.pdf (deflated 38%)\n",
      "  adding: acetylcholinesterase_03_bioactivity_data_curated.csv (deflated 82%)\n",
      "  adding: akt_04_bioactivity_data_3class_pIC50.csv (deflated 79%)\n"
     ]
    }
   ],
   "source": [
    "! zip -r results.zip . -i *.csv *.pdf"
   ]
  }
 ],
 "metadata": {
  "colab": {
   "provenance": [
    {
     "file_id": "https://github.com/dataprofessor/code/blob/master/python/CDD_ML_Part_2_Acetylcholinesterase_Exploratory_Data_Analysis.ipynb",
     "timestamp": 1625848453561
    }
   ]
  },
  "kernelspec": {
   "display_name": "Python 3 (ipykernel)",
   "language": "python",
   "name": "python3"
  },
  "language_info": {
   "codemirror_mode": {
    "name": "ipython",
    "version": 3
   },
   "file_extension": ".py",
   "mimetype": "text/x-python",
   "name": "python",
   "nbconvert_exporter": "python",
   "pygments_lexer": "ipython3",
   "version": "3.10.9"
  }
 },
 "nbformat": 4,
 "nbformat_minor": 1
}
